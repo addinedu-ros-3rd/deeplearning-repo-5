{
 "cells": [
  {
   "cell_type": "code",
   "execution_count": null,
   "metadata": {},
   "outputs": [],
   "source": [
    "# AWS RDS 연결\n",
    "import mysql.connector\n",
    "\n",
    "aws_DB = mysql.connector.connect(\n",
    "    host = \"database-1.ciifx43v3wkq.ap-northeast-2.rds.amazonaws.com\",\n",
    "    port = 3306,\n",
    "    user = \"root\",\n",
    "    password = \"qaz51133\"\n",
    ")"
   ]
  },
  {
   "cell_type": "code",
   "execution_count": null,
   "metadata": {},
   "outputs": [],
   "source": [
    "# aws RDS 연결\n",
    "aws_DB = mysql.connector.connect(\n",
    "    host = \"database-1.ciifx43v3wkq.ap-northeast-2.rds.amazonaws.com\",\n",
    "    port = 3306,\n",
    "    user = \"root\",\n",
    "    password = \"qaz51133\"\n",
    ")"
   ]
  },
  {
   "cell_type": "code",
   "execution_count": null,
   "metadata": {},
   "outputs": [],
   "source": [
    "# 데이터베이스 생성\n",
    "my_db_name = 'Project_ML'  # create하려는 데이터베이스 이름\n",
    "sql_query = 'CREATE DATABASE ' + my_db_name\n",
    "\n",
    "my_cursor = aws_DB.cursor()  # 커서 생성\n",
    "\n",
    "my_cursor.execute(f\"SHOW DATABASES LIKE '{my_db_name}'\")  # create하려는 데이터베이스가 이미 있는지 파악을 하기 위함.\n",
    "\n",
    "# 없으면 생성한다.\n",
    "if my_cursor.fetchone() is None:\n",
    "    my_cursor.execute(sql_query)\n",
    "    aws_DB.commit()\n",
    "    print(f\"데이터베이스 '{my_db_name}'를 생성했습니다.\")\n",
    "\n",
    "# 있으면 스킵한다.\n",
    "else:  \n",
    "    print(f\"데이터베이스 '{my_db_name}'가 이미 존재합니다. 생성을 스킵합니다.\")\n",
    "\n",
    "my_cursor.execute(f\"USE {my_db_name}\")  # 해당 데이터베이스로 들어간다."
   ]
  },
  {
   "cell_type": "code",
   "execution_count": null,
   "metadata": {},
   "outputs": [],
   "source": [
    "# 테이블 생성\n",
    "my_table_name  = \"Table_\" +  datetime.datetime.now().strftime('%y%m%d')\n",
    "sql_query = f'''CREATE TABLE {my_table_name} (\n",
    "                Class VARCHAR(255) NOT NULL,\n",
    "                Detected_time TIME,\n",
    "                Disappeared_time TIME\n",
    "            )'''\n",
    "\n",
    "my_cursor.execute(f\"SHOW TABLES LIKE %s\", (my_table_name,))  # 만드려는 테이블명이 중복인지 아닌지 확인\n",
    "\n",
    "if my_cursor.fetchone() is None:\n",
    "    my_cursor.execute(sql_query)\n",
    "    aws_DB.commit()\n",
    "    print(f\"테이블 '{my_table_name}'를 생성했습니다.\")\n",
    "else:\n",
    "    print(f\"테이블 '{my_table_name}'가 이미 존재합니다. 생성을 스킵합니다.\")"
   ]
  },
  {
   "cell_type": "code",
   "execution_count": null,
   "metadata": {},
   "outputs": [],
   "source": [
    "# INSERT 쿼리 불러오기\n",
    "sql_query = f'''INSERT INTO {my_table_name} (Class, Detected_time) VALUES (%s, %s)'''\n",
    "sql_query2 = f'''UPDATE {my_table_name} SET Disappeared_time = %s WHERE Class = %s AND Detected_time = %s'''"
   ]
  },
  {
   "cell_type": "code",
   "execution_count": null,
   "metadata": {},
   "outputs": [],
   "source": [
    "# GUI 클래스에 추가할 파라미터 및 Qt 테이블 관련 메소드\n",
    "class WindowClass(QMainWindow, from_class):\n",
    "    def __init__(self):\n",
    "        super().__init__()\n",
    "        self.setupUi(self)\n",
    "        self.setWindowTitle(\"유해조수 판별 모델 및 추적모델\")\n",
    "\n",
    "        # 객체 검출 정보\n",
    "        self.record = Camera(self)\n",
    "        self.previous_status = None\n",
    "        self.current_status = None\n",
    "        self.info_table.horizontalHeader().setSectionResizeMode(QHeaderView.Stretch)\n",
    "        self.row = self.info_table.rowCount()\n",
    "        \n",
    "        self.detect_class = None\n",
    "        self.start_timing = None\n",
    "        self.end_timing = None"
   ]
  },
  {
   "cell_type": "code",
   "execution_count": null,
   "metadata": {},
   "outputs": [],
   "source": [
    "# 객체 검출 시작/종료 시에 GUI에 표시하거나 \n",
    "def start_db_record(self):\n",
    "    self.recordingStart()\n",
    "    self.row = self.info_table.rowCount()\n",
    "    self.info_table.insertRow(self.row)\n",
    "    self.info_table.setItem(self.row, 0, QTableWidgetItem(class_list[self.detect_class]))\n",
    "    self.start_timing = datetime.datetime.now().strftime('%H:%M:%S')\n",
    "    self.info_table.setItem(self.row, 1, QTableWidgetItem(str(self.start_timing)))\n",
    "\n",
    "    my_cursor.execute(sql_query, (class_list[self.detect_class], self.start_timing))\n",
    "    aws_DB.commit()\n",
    "\n",
    "def end_db_record(self):\n",
    "    self.end_timing = datetime.datetime.now().strftime('%H:%M:%S')\n",
    "    self.info_table.setItem(self.row, 2, QTableWidgetItem(str(self.end_timing)))\n",
    "    \n",
    "    my_cursor.execute(sql_query2, (self.end_timing, class_list[self.detect_class], self.start_timing))\n",
    "    aws_DB.commit()\n",
    "\n",
    "    self.recordingStop()"
   ]
  },
  {
   "cell_type": "code",
   "execution_count": null,
   "metadata": {},
   "outputs": [],
   "source": [
    "# gui를 닫는 즉시 실행되는 함수\n",
    "def closeEvent(self, event):\n",
    "    aws_DB.close()"
   ]
  }
 ],
 "metadata": {
  "kernelspec": {
   "display_name": "dl_venv",
   "language": "python",
   "name": "python3"
  },
  "language_info": {
   "codemirror_mode": {
    "name": "ipython",
    "version": 3
   },
   "file_extension": ".py",
   "mimetype": "text/x-python",
   "name": "python",
   "nbconvert_exporter": "python",
   "pygments_lexer": "ipython3",
   "version": "3.10.12"
  }
 },
 "nbformat": 4,
 "nbformat_minor": 2
}
