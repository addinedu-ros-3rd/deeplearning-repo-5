{
 "cells": [
  {
   "cell_type": "code",
   "execution_count": 2,
   "metadata": {},
   "outputs": [],
   "source": [
    "import mysql.connector"
   ]
  },
  {
   "cell_type": "code",
   "execution_count": 3,
   "metadata": {},
   "outputs": [],
   "source": [
    "remote = mysql.connector.connect(\n",
    "    host = \"localhost\",\n",
    "    port = 3306,\n",
    "    user = \"hong\",\n",
    "    password = \"unique1117!\",\n",
    "    database = \"amrbase\" \n",
    ")"
   ]
  },
  {
   "cell_type": "code",
   "execution_count": 4,
   "metadata": {},
   "outputs": [],
   "source": [
    "cursor.execute(\"SELECT * from dbtable\") "
   ]
  },
  {
   "cell_type": "code",
   "execution_count": 10,
   "metadata": {},
   "outputs": [
    {
     "name": "stdout",
     "output_type": "stream",
     "text": [
      "('bear', 20231011, 3)\n",
      "('deer', 20231115, 1)\n",
      "('deer', 20231115, 1)\n"
     ]
    }
   ],
   "source": [
    "db = mysql.connector.connect(\n",
    "    host = \"localhost\",\n",
    "    port = 3306,\n",
    "    user = \"hong\",\n",
    "    password = \"unique1117!\",\n",
    "    database = \"amrbase\" \n",
    ")\n",
    "\n",
    "cursor = db.cursor()\n",
    "\n",
    "query = \"SELECT * FROM dbtable\"\n",
    "\n",
    "# values = (\"human\", 20231231, 6)\n",
    "\n",
    "cursor.execute(query)\n",
    "\n",
    "results = cursor.fetchall()\n",
    "\n",
    "for row in results:\n",
    "    print(row)\n",
    "\n",
    "db.commit()\n",
    "\n",
    "cursor.close()\n",
    "db.close()"
   ]
  },
  {
   "cell_type": "code",
   "execution_count": null,
   "metadata": {},
   "outputs": [],
   "source": [
    "remote = mysql.connector.connect(\n",
    "    host = \"localhost\",\n",
    "    port = 3306,\n",
    "    user = \"hong\",\n",
    "    password = \"unique1117!\",\n",
    "    database = \"amrbase\" \n",
    ")"
   ]
  },
  {
   "cell_type": "code",
   "execution_count": null,
   "metadata": {},
   "outputs": [],
   "source": [
    "db = mysql.connector.connect(\n",
    "    host = \"localhost\",\n",
    "    port = 3306,\n",
    "    user = \"hong\",\n",
    "    password = \"unique1117!\",\n",
    "    database = \"amrbase\" \n",
    ")\n",
    "\n",
    "cursor = db.cursor()\n",
    "\n",
    "query = \"INSERT INTO dbtable (name, time, number) VALUES (%s, %s, %s)\"\n",
    "\n",
    "values = (\"deer\", 20231115, 1)\n",
    "\n",
    "cursor.execute(query, values)\n",
    "\n",
    "db.commit()\n"
   ]
  }
 ],
 "metadata": {
  "kernelspec": {
   "display_name": "DL_project",
   "language": "python",
   "name": "python3"
  },
  "language_info": {
   "codemirror_mode": {
    "name": "ipython",
    "version": 3
   },
   "file_extension": ".py",
   "mimetype": "text/x-python",
   "name": "python",
   "nbconvert_exporter": "python",
   "pygments_lexer": "ipython3",
   "version": "3.10.12"
  }
 },
 "nbformat": 4,
 "nbformat_minor": 2
}
