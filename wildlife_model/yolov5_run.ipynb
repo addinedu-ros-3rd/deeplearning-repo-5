{
 "cells": [
  {
   "cell_type": "code",
   "execution_count": 8,
   "metadata": {},
   "outputs": [
    {
     "name": "stdout",
     "output_type": "stream",
     "text": [
      " Volume in drive D is data\n",
      " Volume Serial Number is A68D-4A19\n",
      "\n",
      " Directory of d:\\wildlife_model\n",
      "\n",
      "2023-12-08  오전 12:57    <DIR>          .\n",
      "2023-12-07  오후 11:58    <DIR>          dataset\n",
      "2023-12-07  오후 11:57            17,250 dataset.ipynb\n",
      "2023-12-03  오후 08:04    <DIR>          Doc\n",
      "2023-12-02  오후 06:04    <DIR>          origin_data\n",
      "2022-02-11  오전 10:38               683 ReadMe.txt\n",
      "2023-12-08  오전 12:57    <DIR>          yolov5\n",
      "2023-12-08  오전 12:59             2,734 yolov5_run.ipynb\n",
      "2023-11-22  오후 04:18    <DIR>          실행환경버전\n",
      "               3 File(s)         20,667 bytes\n",
      "               6 Dir(s)  386,650,112,000 bytes free\n"
     ]
    }
   ],
   "source": [
    "!dir"
   ]
  },
  {
   "cell_type": "code",
   "execution_count": 5,
   "metadata": {},
   "outputs": [
    {
     "name": "stderr",
     "output_type": "stream",
     "text": [
      "Cloning into 'yolov5'...\n"
     ]
    }
   ],
   "source": [
    "# yolo 설치\n",
    "!git clone https://github.com/ultralytics/yolov5.git"
   ]
  },
  {
   "cell_type": "code",
   "execution_count": null,
   "metadata": {},
   "outputs": [],
   "source": [
    "# yolov8 설치하면 아래 모듈 설치 생략 \n",
    "!pip install ultralytics\n",
    "\n",
    "# yolo 실행에 필요한 모듈 설치\n",
    "%cd yolov5\n",
    "!pip3 install -r requirements.txt"
   ]
  },
  {
   "cell_type": "code",
   "execution_count": 10,
   "metadata": {},
   "outputs": [
    {
     "name": "stdout",
     "output_type": "stream",
     "text": [
      "d:\\wildlife_model\\yolov5\n"
     ]
    },
    {
     "name": "stderr",
     "output_type": "stream",
     "text": [
      "c:\\venv\\wildlife\\Lib\\site-packages\\IPython\\core\\magics\\osm.py:417: UserWarning: using dhist requires you to install the `pickleshare` library.\n",
      "  self.shell.db['dhist'] = compress_dhist(dhist)[-100:]\n"
     ]
    },
    {
     "name": "stdout",
     "output_type": "stream",
     "text": [
      "^C\n"
     ]
    }
   ],
   "source": [
    "# yolo 학습 코드 (약 120시간 실행) \n",
    "\n",
    "%cd yolov5\n",
    "!python train.py --img 416 --batch 64 --epochs 1 --data ../dataset/data_eng.yaml --cfg ./models/yolov5s.yaml --weights yolov5s.pt"
   ]
  },
  {
   "cell_type": "code",
   "execution_count": null,
   "metadata": {},
   "outputs": [],
   "source": [
    "# yolo 테스트 코드\n",
    "\n",
    "!python3 val.py --data ../Dataset/data.yaml --batch 128 --weights ./runs/train/exp/weights/best.pt --task test --img 416 --save-txt --save-conf"
   ]
  }
 ],
 "metadata": {
  "kernelspec": {
   "display_name": "wildlife",
   "language": "python",
   "name": "python3"
  },
  "language_info": {
   "codemirror_mode": {
    "name": "ipython",
    "version": 3
   },
   "file_extension": ".py",
   "mimetype": "text/x-python",
   "name": "python",
   "nbconvert_exporter": "python",
   "pygments_lexer": "ipython3",
   "version": "3.11.4"
  }
 },
 "nbformat": 4,
 "nbformat_minor": 2
}
