{
 "cells": [
  {
   "cell_type": "code",
   "execution_count": 4,
   "id": "8551ddbe",
   "metadata": {},
   "outputs": [],
   "source": [
    "import json\n",
    "import shutil\n",
    "import os \n",
    "import yaml\n",
    "import cv2\n",
    "from glob import glob\n",
    "from openpyxl import Workbook\n",
    "from scipy.sparse import data\n",
    "from sklearn.model_selection import train_test_split\n",
    "\n",
    "from tqdm import tqdm\n",
    "import time\n",
    "\n",
    "import random"
   ]
  },
  {
   "cell_type": "code",
   "execution_count": 5,
   "metadata": {},
   "outputs": [
    {
     "name": "stdout",
     "output_type": "stream",
     "text": [
      "/home/mb/wildlife_model\n"
     ]
    }
   ],
   "source": [
    "!pwd"
   ]
  },
  {
   "cell_type": "code",
   "execution_count": null,
   "metadata": {},
   "outputs": [],
   "source": [
    "# 압축 해제\n",
    "\n",
    "import os\n",
    "import zipfile\n",
    "\n",
    "TO_PATH = '/media/mb/exFAT256/wildlife_model/data'\n",
    "FROM_PATH = '/home/mb/wildlife_model/data'\n",
    "\n",
    "def unzip_all_in_directory(source_directory, destination_directory):\n",
    "    for root, dirs, files in os.walk(source_directory):\n",
    "        for file in files:\n",
    "            if file.endswith('.zip'):\n",
    "                # 원본 zip 파일의 전체 경로\n",
    "                zip_path = os.path.join(root, file)\n",
    "                # 압축 해제할 디렉토리 경로 (원본 경로 구조를 유지)\n",
    "                relative_path = os.path.relpath(root, source_directory)\n",
    "                extract_path = os.path.join(destination_directory, relative_path, os.path.splitext(file)[0])\n",
    "\n",
    "                # 디렉토리 생성\n",
    "                if not os.path.exists(extract_path):\n",
    "                    os.makedirs(extract_path)\n",
    "\n",
    "                # zip 파일 압축 해제\n",
    "                with zipfile.ZipFile(zip_path, 'r') as zip_ref:\n",
    "                    zip_ref.extractall(extract_path)\n",
    "\n",
    "                print(f'Extracted {zip_path} to {extract_path}')\n",
    "\n",
    "\n",
    "unzip_all_in_directory(FROM_PATH, TO_PATH)\n"
   ]
  },
  {
   "cell_type": "code",
   "execution_count": 10,
   "metadata": {},
   "outputs": [
    {
     "name": "stdout",
     "output_type": "stream",
     "text": [
      "total 14004\n",
      "drwxrwxr-x  2 mb mb     4096 Nov 27 17:27  실행환경버전\n",
      "drwxrwxr-x  7 mb mb     4096 Dec  7 18:00  .\n",
      "drwxr-x--- 61 mb mb     4096 Dec  7 18:35  ..\n",
      "-rwxr-xr-x  1 mb mb 14213578 Nov 22 14:09 'AI 모델 소스코드.zip'\n",
      "-rw-rw-r--  1 mb mb      116 Dec  1 12:14  classification.txt\n",
      "drwxrwxr-x  5 mb mb     4096 Dec  7 18:45  dataset\n",
      "-rw-rw-r--  1 mb mb        0 Dec  7 15:32  images_directory_list.txt\n",
      "-rw-rw-r--  1 mb mb     1828 Dec  7 15:32  labels_directory_list.txt\n",
      "-rw-rw-r--  1 mb mb    68260 Dec  7 18:58  Main.ipynb\n",
      "drwxr-xr-x  4 mb mb     4096 Dec  2 18:05  origin_data\n",
      "-rw-rw-r--  1 mb mb      683 Feb 11  2022  ReadMe.txt\n",
      "-rw-rw-r--  1 mb mb    10386 Dec  1 11:00  test.ipynb\n",
      "drwxrwxr-x  8 mb mb     4096 Dec  7 17:26  _yolov5\n",
      "drwxrwxr-x 11 mb mb     4096 Dec  7 17:42  yolov5\n"
     ]
    }
   ],
   "source": [
    "!ls -al"
   ]
  },
  {
   "cell_type": "code",
   "execution_count": 8,
   "metadata": {},
   "outputs": [],
   "source": [
    "TARGET_PATH = \"./origin_data\"\n",
    "\n",
    "def get_directory_list(start_path):\n",
    "    images_directory_list = []\n",
    "    labels_directory_list = []\n",
    "    for root, dirs, _ in os.walk(start_path):\n",
    "        for name in dirs:\n",
    "            if \"images\" in os.path.join(root, name):\n",
    "                images_directory_list.append(os.path.join(root, name))\n",
    "            if \"labels\" in os.path.join(root, name):\n",
    "                labels_directory_list.append(os.path.join(root, name))\n",
    "    return images_directory_list, labels_directory_list\n",
    "\n",
    "images_directory_list, labels_directory_list = get_directory_list(TARGET_PATH)\n",
    "images_directory_list = sorted(images_directory_list)\n",
    "labels_directory_list = sorted(labels_directory_list)"
   ]
  },
  {
   "cell_type": "code",
   "execution_count": 9,
   "metadata": {},
   "outputs": [
    {
     "data": {
      "text/plain": [
       "[]"
      ]
     },
     "execution_count": 9,
     "metadata": {},
     "output_type": "execute_result"
    }
   ],
   "source": [
    "images_directory_list"
   ]
  },
  {
   "cell_type": "code",
   "execution_count": 11,
   "metadata": {},
   "outputs": [
    {
     "data": {
      "text/plain": [
       "['./origin_data/training/labels',\n",
       " './origin_data/training/labels/TL_01.고라니',\n",
       " './origin_data/training/labels/TL_02.멧돼지',\n",
       " './origin_data/training/labels/TL_03.너구리',\n",
       " './origin_data/training/labels/TL_04.다람쥐',\n",
       " './origin_data/training/labels/TL_05.청설모',\n",
       " './origin_data/training/labels/TL_06.반달가슴곰',\n",
       " './origin_data/training/labels/TL_07.족제비',\n",
       " './origin_data/training/labels/TL_08.멧토끼',\n",
       " './origin_data/training/labels/TL_09.왜가리',\n",
       " './origin_data/training/labels/TL_10.중대백로',\n",
       " './origin_data/training/labels/TL_11.노루',\n",
       " './origin_data/validation/labels',\n",
       " './origin_data/validation/labels/VL_01.고라니',\n",
       " './origin_data/validation/labels/VL_02.멧돼지',\n",
       " './origin_data/validation/labels/VL_03.너구리',\n",
       " './origin_data/validation/labels/VL_04.다람쥐',\n",
       " './origin_data/validation/labels/VL_05.청설모',\n",
       " './origin_data/validation/labels/VL_06.반달가슴곰',\n",
       " './origin_data/validation/labels/VL_07.족제비',\n",
       " './origin_data/validation/labels/VL_08.멧토끼',\n",
       " './origin_data/validation/labels/VL_09.왜가리',\n",
       " './origin_data/validation/labels/VL_10.중대백로',\n",
       " './origin_data/validation/labels/VL_11.노루']"
      ]
     },
     "execution_count": 11,
     "metadata": {},
     "output_type": "execute_result"
    }
   ],
   "source": [
    "labels_directory_list"
   ]
  },
  {
   "cell_type": "code",
   "execution_count": 12,
   "metadata": {},
   "outputs": [],
   "source": [
    "def save_directory_list(directory_list, file_path):\n",
    "    with open(file_path, 'w') as file:\n",
    "        for directory in directory_list:\n",
    "            file.write(directory + '\\n')\n",
    "\n",
    "# 사용 예\n",
    "save_directory_list(labels_directory_list, 'labels_directory_list.txt')\n",
    "save_directory_list(images_directory_list, 'images_directory_list.txt')"
   ]
  },
  {
   "cell_type": "code",
   "execution_count": 29,
   "id": "6788cc45",
   "metadata": {},
   "outputs": [
    {
     "name": "stdout",
     "output_type": "stream",
     "text": [
      "start covert label.\n",
      "1 / 24  files :  11  -  /media/mb/exFAT256/wildlife_model/data/training/labels\n"
     ]
    },
    {
     "name": "stderr",
     "output_type": "stream",
     "text": [
      "100%|██████████| 11/11 [00:00<00:00, 189087.48it/s]\n"
     ]
    },
    {
     "name": "stdout",
     "output_type": "stream",
     "text": [
      "2 / 24  files :  31074  -  /media/mb/exFAT256/wildlife_model/data/training/labels/TL_01.고라니\n"
     ]
    },
    {
     "name": "stderr",
     "output_type": "stream",
     "text": [
      " 13%|█▎        | 4135/31074 [00:00<00:01, 21188.20it/s]"
     ]
    },
    {
     "name": "stdout",
     "output_type": "stream",
     "text": [
      "0 ['고라니']\n",
      "1 ['고라니', '노루']\n"
     ]
    },
    {
     "name": "stderr",
     "output_type": "stream",
     "text": [
      " 63%|██████▎   | 19711/31074 [00:00<00:00, 21821.93it/s]"
     ]
    },
    {
     "name": "stdout",
     "output_type": "stream",
     "text": [
      "2 ['고라니', '노루', '너구리']\n"
     ]
    },
    {
     "name": "stderr",
     "output_type": "stream",
     "text": [
      " 84%|████████▍ | 26251/31074 [00:01<00:00, 19833.95it/s]"
     ]
    },
    {
     "name": "stdout",
     "output_type": "stream",
     "text": [
      "3 ['고라니', '노루', '너구리', '멧돼지']\n",
      "4 ['고라니', '노루', '너구리', '멧돼지', '반달가슴곰']\n"
     ]
    },
    {
     "name": "stderr",
     "output_type": "stream",
     "text": [
      "100%|██████████| 31074/31074 [00:01<00:00, 19544.19it/s]\n"
     ]
    },
    {
     "name": "stdout",
     "output_type": "stream",
     "text": [
      "3 / 24  files :  30700  -  /media/mb/exFAT256/wildlife_model/data/training/labels/TL_02.멧돼지\n"
     ]
    },
    {
     "name": "stderr",
     "output_type": "stream",
     "text": [
      " 14%|█▍        | 4429/30700 [00:00<00:01, 21128.29it/s]"
     ]
    },
    {
     "name": "stdout",
     "output_type": "stream",
     "text": [
      "5 ['고라니', '노루', '너구리', '멧돼지', '반달가슴곰', '멧토끼']\n"
     ]
    },
    {
     "name": "stderr",
     "output_type": "stream",
     "text": [
      "100%|██████████| 30700/30700 [00:01<00:00, 20710.37it/s]\n"
     ]
    },
    {
     "name": "stdout",
     "output_type": "stream",
     "text": [
      "4 / 24  files :  13743  -  /media/mb/exFAT256/wildlife_model/data/training/labels/TL_03.너구리\n"
     ]
    },
    {
     "name": "stderr",
     "output_type": "stream",
     "text": [
      "100%|██████████| 13743/13743 [00:00<00:00, 21317.10it/s]\n"
     ]
    },
    {
     "name": "stdout",
     "output_type": "stream",
     "text": [
      "5 / 24  files :  34152  -  /media/mb/exFAT256/wildlife_model/data/training/labels/TL_04.다람쥐\n"
     ]
    },
    {
     "name": "stderr",
     "output_type": "stream",
     "text": [
      " 14%|█▎        | 4665/34152 [00:00<00:01, 23348.27it/s]"
     ]
    },
    {
     "name": "stdout",
     "output_type": "stream",
     "text": [
      "6 ['고라니', '노루', '너구리', '멧돼지', '반달가슴곰', '멧토끼', '다람쥐']\n"
     ]
    },
    {
     "name": "stderr",
     "output_type": "stream",
     "text": [
      " 27%|██▋       | 9291/34152 [00:00<00:01, 16630.76it/s]"
     ]
    },
    {
     "name": "stdout",
     "output_type": "stream",
     "text": [
      "7 ['고라니', '노루', '너구리', '멧돼지', '반달가슴곰', '멧토끼', '다람쥐', '청설모']\n"
     ]
    },
    {
     "name": "stderr",
     "output_type": "stream",
     "text": [
      " 87%|████████▋ | 29724/34152 [00:01<00:00, 22907.37it/s]"
     ]
    },
    {
     "name": "stdout",
     "output_type": "stream",
     "text": [
      "8 ['고라니', '노루', '너구리', '멧돼지', '반달가슴곰', '멧토끼', '다람쥐', '청설모', '중대백로']\n"
     ]
    },
    {
     "name": "stderr",
     "output_type": "stream",
     "text": [
      "100%|██████████| 34152/34152 [00:01<00:00, 21345.04it/s]\n"
     ]
    },
    {
     "name": "stdout",
     "output_type": "stream",
     "text": [
      "6 / 24  files :  22258  -  /media/mb/exFAT256/wildlife_model/data/training/labels/TL_05.청설모\n"
     ]
    },
    {
     "name": "stderr",
     "output_type": "stream",
     "text": [
      "100%|██████████| 22258/22258 [00:01<00:00, 19635.63it/s]\n"
     ]
    },
    {
     "name": "stdout",
     "output_type": "stream",
     "text": [
      "7 / 24  files :  14960  -  /media/mb/exFAT256/wildlife_model/data/training/labels/TL_06.반달가슴곰\n"
     ]
    },
    {
     "name": "stderr",
     "output_type": "stream",
     "text": [
      "100%|██████████| 14960/14960 [00:00<00:00, 18569.88it/s]\n"
     ]
    },
    {
     "name": "stdout",
     "output_type": "stream",
     "text": [
      "8 / 24  files :  14857  -  /media/mb/exFAT256/wildlife_model/data/training/labels/TL_07.족제비\n"
     ]
    },
    {
     "name": "stderr",
     "output_type": "stream",
     "text": [
      " 27%|██▋       | 3940/14857 [00:00<00:00, 20065.73it/s]"
     ]
    },
    {
     "name": "stdout",
     "output_type": "stream",
     "text": [
      "9 ['고라니', '노루', '너구리', '멧돼지', '반달가슴곰', '멧토끼', '다람쥐', '청설모', '중대백로', '족제비']\n"
     ]
    },
    {
     "name": "stderr",
     "output_type": "stream",
     "text": [
      "100%|██████████| 14857/14857 [00:00<00:00, 20866.21it/s]\n"
     ]
    },
    {
     "name": "stdout",
     "output_type": "stream",
     "text": [
      "9 / 24  files :  24514  -  /media/mb/exFAT256/wildlife_model/data/training/labels/TL_08.멧토끼\n"
     ]
    },
    {
     "name": "stderr",
     "output_type": "stream",
     "text": [
      "100%|██████████| 24514/24514 [00:01<00:00, 21158.07it/s]\n"
     ]
    },
    {
     "name": "stdout",
     "output_type": "stream",
     "text": [
      "10 / 24  files :  25974  -  /media/mb/exFAT256/wildlife_model/data/training/labels/TL_09.왜가리\n"
     ]
    },
    {
     "name": "stderr",
     "output_type": "stream",
     "text": [
      " 18%|█▊        | 4564/25974 [00:00<00:00, 22838.70it/s]"
     ]
    },
    {
     "name": "stdout",
     "output_type": "stream",
     "text": [
      "10 ['고라니', '노루', '너구리', '멧돼지', '반달가슴곰', '멧토끼', '다람쥐', '청설모', '중대백로', '족제비', '왜가리']\n"
     ]
    },
    {
     "name": "stderr",
     "output_type": "stream",
     "text": [
      "100%|██████████| 25974/25974 [00:01<00:00, 18681.72it/s]\n"
     ]
    },
    {
     "name": "stdout",
     "output_type": "stream",
     "text": [
      "11 / 24  files :  21587  -  /media/mb/exFAT256/wildlife_model/data/training/labels/TL_10.중대백로\n"
     ]
    },
    {
     "name": "stderr",
     "output_type": "stream",
     "text": [
      "100%|██████████| 21587/21587 [00:01<00:00, 19851.26it/s]\n"
     ]
    },
    {
     "name": "stdout",
     "output_type": "stream",
     "text": [
      "12 / 24  files :  25255  -  /media/mb/exFAT256/wildlife_model/data/training/labels/TL_11.노루\n"
     ]
    },
    {
     "name": "stderr",
     "output_type": "stream",
     "text": [
      "100%|██████████| 25255/25255 [00:01<00:00, 19753.37it/s]\n"
     ]
    },
    {
     "name": "stdout",
     "output_type": "stream",
     "text": [
      "13 / 24  files :  11  -  /media/mb/exFAT256/wildlife_model/data/validation/labels\n"
     ]
    },
    {
     "name": "stderr",
     "output_type": "stream",
     "text": [
      "100%|██████████| 11/11 [00:00<00:00, 265157.15it/s]\n"
     ]
    },
    {
     "name": "stdout",
     "output_type": "stream",
     "text": [
      "14 / 24  files :  3904  -  /media/mb/exFAT256/wildlife_model/data/validation/labels/VL_01.고라니\n"
     ]
    },
    {
     "name": "stderr",
     "output_type": "stream",
     "text": [
      "100%|██████████| 3904/3904 [00:00<00:00, 19795.02it/s]\n"
     ]
    },
    {
     "name": "stdout",
     "output_type": "stream",
     "text": [
      "15 / 24  files :  3805  -  /media/mb/exFAT256/wildlife_model/data/validation/labels/VL_02.멧돼지\n"
     ]
    },
    {
     "name": "stderr",
     "output_type": "stream",
     "text": [
      "100%|██████████| 3805/3805 [00:00<00:00, 20545.94it/s]\n"
     ]
    },
    {
     "name": "stdout",
     "output_type": "stream",
     "text": [
      "16 / 24  files :  1721  -  /media/mb/exFAT256/wildlife_model/data/validation/labels/VL_03.너구리\n"
     ]
    },
    {
     "name": "stderr",
     "output_type": "stream",
     "text": [
      "100%|██████████| 1721/1721 [00:00<00:00, 19544.52it/s]\n"
     ]
    },
    {
     "name": "stdout",
     "output_type": "stream",
     "text": [
      "17 / 24  files :  4275  -  /media/mb/exFAT256/wildlife_model/data/validation/labels/VL_04.다람쥐\n"
     ]
    },
    {
     "name": "stderr",
     "output_type": "stream",
     "text": [
      "100%|██████████| 4275/4275 [00:00<00:00, 21490.54it/s]\n"
     ]
    },
    {
     "name": "stdout",
     "output_type": "stream",
     "text": [
      "18 / 24  files :  2796  -  /media/mb/exFAT256/wildlife_model/data/validation/labels/VL_05.청설모\n"
     ]
    },
    {
     "name": "stderr",
     "output_type": "stream",
     "text": [
      "100%|██████████| 2796/2796 [00:00<00:00, 19286.66it/s]\n"
     ]
    },
    {
     "name": "stdout",
     "output_type": "stream",
     "text": [
      "19 / 24  files :  1866  -  /media/mb/exFAT256/wildlife_model/data/validation/labels/VL_06.반달가슴곰\n"
     ]
    },
    {
     "name": "stderr",
     "output_type": "stream",
     "text": [
      "100%|██████████| 1866/1866 [00:00<00:00, 17591.32it/s]\n"
     ]
    },
    {
     "name": "stdout",
     "output_type": "stream",
     "text": [
      "20 / 24  files :  1858  -  /media/mb/exFAT256/wildlife_model/data/validation/labels/VL_07.족제비\n"
     ]
    },
    {
     "name": "stderr",
     "output_type": "stream",
     "text": [
      "100%|██████████| 1858/1858 [00:00<00:00, 20348.37it/s]\n"
     ]
    },
    {
     "name": "stdout",
     "output_type": "stream",
     "text": [
      "21 / 24  files :  3027  -  /media/mb/exFAT256/wildlife_model/data/validation/labels/VL_08.멧토끼\n"
     ]
    },
    {
     "name": "stderr",
     "output_type": "stream",
     "text": [
      "100%|██████████| 3027/3027 [00:00<00:00, 20378.08it/s]\n"
     ]
    },
    {
     "name": "stdout",
     "output_type": "stream",
     "text": [
      "22 / 24  files :  3255  -  /media/mb/exFAT256/wildlife_model/data/validation/labels/VL_09.왜가리\n"
     ]
    },
    {
     "name": "stderr",
     "output_type": "stream",
     "text": [
      "100%|██████████| 3255/3255 [00:00<00:00, 17979.21it/s]\n"
     ]
    },
    {
     "name": "stdout",
     "output_type": "stream",
     "text": [
      "23 / 24  files :  2679  -  /media/mb/exFAT256/wildlife_model/data/validation/labels/VL_10.중대백로\n"
     ]
    },
    {
     "name": "stderr",
     "output_type": "stream",
     "text": [
      "100%|██████████| 2679/2679 [00:00<00:00, 19391.13it/s]\n"
     ]
    },
    {
     "name": "stdout",
     "output_type": "stream",
     "text": [
      "24 / 24  files :  3142  -  /media/mb/exFAT256/wildlife_model/data/validation/labels/VL_11.노루\n"
     ]
    },
    {
     "name": "stderr",
     "output_type": "stream",
     "text": [
      "100%|██████████| 3142/3142 [00:00<00:00, 18520.60it/s]"
     ]
    },
    {
     "name": "stdout",
     "output_type": "stream",
     "text": [
      "고라니 is counted: 36297\n",
      "노루 is counted: 33464\n",
      "너구리 is counted: 15606\n",
      "멧돼지 is counted: 38796\n",
      "반달가슴곰 is counted: 26776\n",
      "멧토끼 is counted: 36800\n",
      "다람쥐 is counted: 39162\n",
      "청설모 is counted: 26104\n",
      "중대백로 is counted: 27964\n",
      "족제비 is counted: 16719\n",
      "왜가리 is counted: 31177\n"
     ]
    },
    {
     "name": "stderr",
     "output_type": "stream",
     "text": [
      "\n"
     ]
    }
   ],
   "source": [
    "# json 형태의 annotation 데이터를 YOLOv5 학습 형태에 맞게 txt 로 변환한다.\n",
    "\n",
    "classification = []\n",
    "count = []\n",
    "\n",
    "TOP = 0\n",
    "LEFT = 1\n",
    "BOTTOM = 2\n",
    "RIGHT = 3\n",
    "\n",
    "SQURE = 1\n",
    "\n",
    "\n",
    "def load_directory_list(file_path):\n",
    "    with open(file_path, 'r') as file:\n",
    "        directory_list = file.read().splitlines()\n",
    "    return directory_list\n",
    "\n",
    "labels_directory_list = load_directory_list('labels_directory_list.txt')\n",
    "images_directory_list = load_directory_list('images_directory_list.txt')\n",
    "\n",
    "class Label:\n",
    "\n",
    "\tdef __init__(self, fileName, imagePath):\n",
    "\t\tdata = self.parse_json_data(fileName)\n",
    "\t\tself.set_data(data, fileName, imagePath)\n",
    "\n",
    "\tdef parse_json_data(self, fileName):\n",
    "\t\twith open(fileName, encoding='utf-8-sig') as jsonFile:\n",
    "\t\t\tjsonData = json.load(jsonFile)\n",
    "\t\treturn jsonData\n",
    "\n",
    "\tdef set_data(self, data, fileName, imagePath):\n",
    "\t\tself.fileName = '.'.join(os.path.basename(fileName).split('.')[0:-1])\n",
    "\t\tself.width = int(data['images'][0]['width'])\n",
    "\t\tself.height = int(data['images'][0]['height'])\n",
    "\t\tself.annotations = data['annotations']\n",
    "\n",
    "\tdef get_bbox_point(self, bbox):\n",
    "\t\ttop = 10000\n",
    "\t\tleft = 10000\n",
    "\t\tbottom = -1\n",
    "\t\tright = -1\n",
    "\n",
    "\t\tfor i in bbox:\n",
    "\t\t\tif (i[0] < left): left = i[0]\n",
    "\t\t\tif (i[0] > right): right = i[0]\n",
    "\t\t\tif (i[1] < top): top = i[1]\n",
    "\t\t\tif (i[1] > bottom): bottom = i[1]\n",
    "\n",
    "\t\treturn ((top, left, bottom, right))\n",
    "\n",
    "\tdef get_segment_point(self, seg):\n",
    "\t\ttop = 10000\n",
    "\t\tleft = 10000\n",
    "\t\tbottom = -1\n",
    "\t\tright = -1\n",
    "\n",
    "\t\tfor i in range(len(seg)):\n",
    "\t\t\tif (i % 2 == 0):\n",
    "\t\t\t\tif (seg[i] < left): left = seg[i]\n",
    "\t\t\t\tif (seg[i] > right): right = seg[i]\n",
    "\t\t\telse:\n",
    "\t\t\t\tif (seg[i] < top): top = seg[i]\n",
    "\t\t\t\tif (seg[i] > bottom): bottom = seg[i]\n",
    "\n",
    "\t\treturn ((top, left, bottom, right))\n",
    "\n",
    "\tdef get_shape_point(self, shape):\n",
    "\t\tif (shape['bbox'] and len(shape['bbox']) != 0):\n",
    "\t\t\treturn self.get_bbox_point(shape['bbox'])\n",
    "\t\telif (shape['segmentation'] and len(shape['segmentation']) != 0):\n",
    "\t\t\treturn self.get_segment_point(shape['segmentation'][0])\n",
    "\t\telse:\n",
    "\t\t\treturn (0, 0, 0, 0)\n",
    "\n",
    "\tdef point_to_txt(self, point):\n",
    "\t\tif (point[0]) not in classification:\n",
    "\t\t\tclassification.append(point[0])\n",
    "\t\t\tcount.append(0)\n",
    "\t\t\tprint(classification.index(point[0]), classification)\n",
    "\n",
    "\t\tidx = classification.index(point[0])\n",
    "\t\tcount[idx] += 1\n",
    "\n",
    "\t\tif (SQURE):\n",
    "\t\t\tr = (self.width - self.height) / 2\n",
    "\t\t\tw_center = ((point[1][LEFT] + point[1][RIGHT]) / 2) / self.width\n",
    "\t\t\th_center = (((point[1][TOP] + point[1][BOTTOM]) / 2) + r) / self.width\n",
    "\t\t\tw_len = (point[1][RIGHT] - point[1][LEFT]) / self.width\n",
    "\t\t\th_len = (point[1][BOTTOM] - point[1][TOP]) / self.width\n",
    "\t\telse:\n",
    "\t\t\tw_center = ((point[1][LEFT] + point[1][RIGHT]) / 2) / self.width\n",
    "\t\t\th_center = ((point[1][TOP] + point[1][BOTTOM]) / 2) / self.height\n",
    "\t\t\tw_len = (point[1][RIGHT] - point[1][LEFT]) / self.width\n",
    "\t\t\th_len = (point[1][BOTTOM] - point[1][TOP]) / self.height\n",
    "\t\treturn (idx, w_center, h_center, w_len, h_len)\n",
    "\n",
    "\tdef convert_data(self):\n",
    "\t\tself.points = []\n",
    "\t\tself.txt = []\n",
    "\t\tfor shape in self.annotations:\n",
    "\t\t\tself.points.append((shape['species'], self.get_shape_point(shape)))\n",
    "\t\tfor point in self.points:\n",
    "\t\t\tself.txt.append(self.point_to_txt(point))\n",
    "\n",
    "\tdef write_data(self, path):\n",
    "\t\twith open(path + self.fileName + \".txt\", 'w') as f:\n",
    "\t\t\tfor line in self.txt:\n",
    "\t\t\t\tf.write(' '.join(map(str, line)) + \"\\n\")\n",
    "\n",
    "\n",
    "\n",
    "\n",
    "\n",
    "def convert_data(file, targetPath, imagePath):\n",
    "\ttarget = Label(file, imagePath)\n",
    "\ttarget.convert_data()\n",
    "\ttarget.write_data(targetPath)\n",
    "\n",
    "def get_directory_list(start_path):\n",
    "    directory_list = []\n",
    "    for root, dirs, _ in os.walk(start_path):\n",
    "        for name in dirs:\n",
    "            directory_list.append(os.path.join(root, name))\n",
    "            print(os.path.join(root, name))\n",
    "    return directory_list\n",
    "\n",
    "json_count = [0]\n",
    "def convert(labels_directory_list, src):\n",
    "\tfor idx, targetPath in enumerate(labels_directory_list):\n",
    "\t\tdata_list = os.listdir(targetPath)\n",
    "\t\tprint(idx+1, \"/\", len(labels_directory_list), \" files : \", len(data_list), \" - \", targetPath)\n",
    "\t\ttime.sleep(1)\n",
    "\t\t\n",
    "\t\tfor line in tqdm(data_list):\n",
    "\t\t\tif '.json' in line:\n",
    "\t\t\t\tjson_count[0] += 1\n",
    "\t\t\t\t#print(json_count[0], \"Data Convert:\", line, end='\\r')\n",
    "\t\t\t\tshutil.copyfile(targetPath + \"/\" + line, src + \"/json/\" + line)\n",
    "\t\t\t\tconvert_data(targetPath + \"/\" + line, src + \"/labels/\", src + \"/images/\")\n",
    "\t\t\telse:\n",
    "\t\t\t\t#print(\"Pass: \", line, end='\\r')\n",
    "\t\t\t\tpass\n",
    "\t\t\t#time.sleep(0.01)\n",
    "\t\t#if idx > 10: break\n",
    "\n",
    "image_count = [0]\n",
    "def copy_image(targetPath, src):\n",
    "\tdata_list = os.listdir(targetPath)\n",
    "\tfor line in data_list:\n",
    "\t\tif os.path.isdir(os.path.join(targetPath, line)):\n",
    "\t\t\tcopy_image(os.path.join(targetPath, line), src)\n",
    "\t\telif '.jpg' in line:\n",
    "\t\t\timage_count[0] += 1\n",
    "\t\t\tprint(image_count[0], \"Image Copy:\", line, end='\\r')\n",
    "\t\t\tshutil.copyfile(targetPath + \"/\" + line, src + \"/images/\" + line)\n",
    "\t\telse:\n",
    "\t\t\tpass\n",
    "\n",
    "def write_yaml(target):\n",
    "\tdata = {}\n",
    "\tdata[\"names\"] = classification\n",
    "\tdata[\"nc\"] = len(classification)\n",
    "\tdata[\"train\"] = \"../dataset/train.txt\"\n",
    "\tdata[\"val\"] = \"../dataset/valid.txt\"\n",
    "\tdata[\"test\"] = \"../dataset/test.txt\"\n",
    "\twith open(target, 'w', encoding='utf-8-sig') as f:\n",
    "\t\tyaml.dump(data, f, allow_unicode=True)\n",
    "\n",
    "def run_convert(images_directory_list, labels_directory_list, src, copy):\n",
    "\tif not os.path.isdir(src + \"/images\"):\n",
    "\t\tos.makedirs(src + \"/images/\")\n",
    "\tif not os.path.isdir(src + \"/labels\"):\n",
    "\t\tos.makedirs(src + \"/labels\")\n",
    "\tif not os.path.isdir(src + \"/json\"):\n",
    "\t\tos.makedirs(src + \"/json\")\n",
    "\tif copy:\n",
    "\t\tcopy_image(images_directory_list, src)\n",
    "\tprint(\"start covert label.\")\n",
    "\tconvert(labels_directory_list, src)\n",
    "\twrite_yaml(os.path.join(src, \"data.yaml\"))\n",
    "\tfor i in range(len(classification)):\n",
    "\t\tprint(classification[i], \"is counted:\", count[i])\n",
    "\n",
    "run_convert(images_directory_list, labels_directory_list, \"./dataset\", False)\n",
    "\n"
   ]
  },
  {
   "cell_type": "code",
   "execution_count": 23,
   "metadata": {},
   "outputs": [
    {
     "data": {
      "text/plain": [
       "['고라니', '노루', '너구리', '멧돼지', '반달가슴곰', '멧토끼', '다람쥐', '청설모', '중대백로', '족제비', '왜가리']"
      ]
     },
     "execution_count": 23,
     "metadata": {},
     "output_type": "execute_result"
    }
   ],
   "source": [
    "classification"
   ]
  },
  {
   "cell_type": "code",
   "execution_count": 24,
   "metadata": {},
   "outputs": [],
   "source": [
    "save_directory_list(classification, 'classification.txt')"
   ]
  },
  {
   "cell_type": "code",
   "execution_count": 31,
   "id": "cbda9b53",
   "metadata": {},
   "outputs": [
    {
     "name": "stdout",
     "output_type": "stream",
     "text": [
      "1 / 24  files :  0  -  /media/mb/exFAT256/wildlife_model/data/training/images\n"
     ]
    },
    {
     "name": "stderr",
     "output_type": "stream",
     "text": [
      "0it [00:00, ?it/s]\n"
     ]
    },
    {
     "name": "stdout",
     "output_type": "stream",
     "text": [
      "2 / 24  files :  31074  -  /media/mb/exFAT256/wildlife_model/data/training/images/TS_01.고라니\n",
      "3 / 24  files :  30700  -  /media/mb/exFAT256/wildlife_model/data/training/images/TS_02.멧돼지\n"
     ]
    },
    {
     "name": "stderr",
     "output_type": "stream",
     "text": [
      "100%|██████████| 30700/30700 [15:59<00:00, 31.98it/s]\n"
     ]
    },
    {
     "name": "stdout",
     "output_type": "stream",
     "text": [
      "4 / 24  files :  13743  -  /media/mb/exFAT256/wildlife_model/data/training/images/TS_03.너구리\n"
     ]
    },
    {
     "name": "stderr",
     "output_type": "stream",
     "text": [
      "100%|██████████| 13743/13743 [06:19<00:00, 36.23it/s]\n"
     ]
    },
    {
     "name": "stdout",
     "output_type": "stream",
     "text": [
      "5 / 24  files :  34152  -  /media/mb/exFAT256/wildlife_model/data/training/images/TS_04.다람쥐\n"
     ]
    },
    {
     "name": "stderr",
     "output_type": "stream",
     "text": [
      "100%|██████████| 34152/34152 [15:49<00:00, 35.99it/s]\n"
     ]
    },
    {
     "name": "stdout",
     "output_type": "stream",
     "text": [
      "6 / 24  files :  22258  -  /media/mb/exFAT256/wildlife_model/data/training/images/TS_05.청설모\n"
     ]
    },
    {
     "name": "stderr",
     "output_type": "stream",
     "text": [
      "100%|██████████| 22258/22258 [11:03<00:00, 33.56it/s]\n"
     ]
    },
    {
     "name": "stdout",
     "output_type": "stream",
     "text": [
      "7 / 24  files :  14960  -  /media/mb/exFAT256/wildlife_model/data/training/images/TS_06.반달가슴곰\n"
     ]
    },
    {
     "name": "stderr",
     "output_type": "stream",
     "text": [
      "100%|██████████| 14960/14960 [06:33<00:00, 37.98it/s]\n"
     ]
    },
    {
     "name": "stdout",
     "output_type": "stream",
     "text": [
      "8 / 24  files :  14857  -  /media/mb/exFAT256/wildlife_model/data/training/images/TS_07.족제비\n"
     ]
    },
    {
     "name": "stderr",
     "output_type": "stream",
     "text": [
      "100%|██████████| 14857/14857 [06:09<00:00, 40.23it/s]\n"
     ]
    },
    {
     "name": "stdout",
     "output_type": "stream",
     "text": [
      "9 / 24  files :  24514  -  /media/mb/exFAT256/wildlife_model/data/training/images/TS_08.멧토끼\n"
     ]
    },
    {
     "name": "stderr",
     "output_type": "stream",
     "text": [
      "100%|██████████| 24514/24514 [11:01<00:00, 37.03it/s]\n"
     ]
    },
    {
     "name": "stdout",
     "output_type": "stream",
     "text": [
      "10 / 24  files :  25974  -  /media/mb/exFAT256/wildlife_model/data/training/images/TS_09.왜가리\n"
     ]
    },
    {
     "name": "stderr",
     "output_type": "stream",
     "text": [
      "100%|██████████| 25974/25974 [09:50<00:00, 43.97it/s]\n"
     ]
    },
    {
     "name": "stdout",
     "output_type": "stream",
     "text": [
      "11 / 24  files :  21587  -  /media/mb/exFAT256/wildlife_model/data/training/images/TS_10.중대백로\n"
     ]
    },
    {
     "name": "stderr",
     "output_type": "stream",
     "text": [
      "100%|██████████| 21587/21587 [09:08<00:00, 39.38it/s]\n"
     ]
    },
    {
     "name": "stdout",
     "output_type": "stream",
     "text": [
      "12 / 24  files :  25255  -  /media/mb/exFAT256/wildlife_model/data/training/images/TS_11.노루\n"
     ]
    },
    {
     "name": "stderr",
     "output_type": "stream",
     "text": [
      "100%|██████████| 25255/25255 [10:46<00:00, 39.04it/s]\n"
     ]
    },
    {
     "name": "stdout",
     "output_type": "stream",
     "text": [
      "13 / 24  files :  0  -  /media/mb/exFAT256/wildlife_model/data/validation/images\n"
     ]
    },
    {
     "name": "stderr",
     "output_type": "stream",
     "text": [
      "0it [00:00, ?it/s]\n"
     ]
    },
    {
     "name": "stdout",
     "output_type": "stream",
     "text": [
      "14 / 24  files :  3904  -  /media/mb/exFAT256/wildlife_model/data/validation/images/VS_01.고라니\n"
     ]
    },
    {
     "name": "stderr",
     "output_type": "stream",
     "text": [
      "100%|██████████| 3904/3904 [01:45<00:00, 37.16it/s]\n"
     ]
    },
    {
     "name": "stdout",
     "output_type": "stream",
     "text": [
      "15 / 24  files :  3805  -  /media/mb/exFAT256/wildlife_model/data/validation/images/VS_02.멧돼지\n"
     ]
    },
    {
     "name": "stderr",
     "output_type": "stream",
     "text": [
      "100%|██████████| 3805/3805 [01:42<00:00, 37.20it/s]\n"
     ]
    },
    {
     "name": "stdout",
     "output_type": "stream",
     "text": [
      "16 / 24  files :  1720  -  /media/mb/exFAT256/wildlife_model/data/validation/images/VS_03.너구리\n"
     ]
    },
    {
     "name": "stderr",
     "output_type": "stream",
     "text": [
      "100%|██████████| 1720/1720 [00:40<00:00, 42.10it/s]\n"
     ]
    },
    {
     "name": "stdout",
     "output_type": "stream",
     "text": [
      "17 / 24  files :  4275  -  /media/mb/exFAT256/wildlife_model/data/validation/images/VS_04.다람쥐\n"
     ]
    },
    {
     "name": "stderr",
     "output_type": "stream",
     "text": [
      "100%|██████████| 4275/4275 [01:44<00:00, 40.83it/s]\n"
     ]
    },
    {
     "name": "stdout",
     "output_type": "stream",
     "text": [
      "18 / 24  files :  2796  -  /media/mb/exFAT256/wildlife_model/data/validation/images/VS_05.청설모\n"
     ]
    },
    {
     "name": "stderr",
     "output_type": "stream",
     "text": [
      "100%|██████████| 2796/2796 [01:16<00:00, 36.38it/s]\n"
     ]
    },
    {
     "name": "stdout",
     "output_type": "stream",
     "text": [
      "19 / 24  files :  1866  -  /media/mb/exFAT256/wildlife_model/data/validation/images/VS_06.반달가슴곰\n"
     ]
    },
    {
     "name": "stderr",
     "output_type": "stream",
     "text": [
      "100%|██████████| 1866/1866 [00:49<00:00, 37.91it/s]\n"
     ]
    },
    {
     "name": "stdout",
     "output_type": "stream",
     "text": [
      "20 / 24  files :  1858  -  /media/mb/exFAT256/wildlife_model/data/validation/images/VS_07.족제비\n"
     ]
    },
    {
     "name": "stderr",
     "output_type": "stream",
     "text": [
      "100%|██████████| 1858/1858 [00:46<00:00, 40.25it/s]\n"
     ]
    },
    {
     "name": "stdout",
     "output_type": "stream",
     "text": [
      "21 / 24  files :  3027  -  /media/mb/exFAT256/wildlife_model/data/validation/images/VS_08.멧토끼\n"
     ]
    },
    {
     "name": "stderr",
     "output_type": "stream",
     "text": [
      "100%|██████████| 3027/3027 [01:22<00:00, 36.77it/s]\n"
     ]
    },
    {
     "name": "stdout",
     "output_type": "stream",
     "text": [
      "22 / 24  files :  3255  -  /media/mb/exFAT256/wildlife_model/data/validation/images/VS_09.왜가리\n"
     ]
    },
    {
     "name": "stderr",
     "output_type": "stream",
     "text": [
      "100%|██████████| 3255/3255 [01:14<00:00, 43.53it/s]\n"
     ]
    },
    {
     "name": "stdout",
     "output_type": "stream",
     "text": [
      "23 / 24  files :  2679  -  /media/mb/exFAT256/wildlife_model/data/validation/images/VS_10.중대백로\n"
     ]
    },
    {
     "name": "stderr",
     "output_type": "stream",
     "text": [
      "100%|██████████| 2679/2679 [01:07<00:00, 39.45it/s]\n"
     ]
    },
    {
     "name": "stdout",
     "output_type": "stream",
     "text": [
      "24 / 24  files :  3142  -  /media/mb/exFAT256/wildlife_model/data/validation/images/VS_11.노루\n"
     ]
    },
    {
     "name": "stderr",
     "output_type": "stream",
     "text": [
      "100%|██████████| 3142/3142 [01:19<00:00, 39.31it/s] \n"
     ]
    }
   ],
   "source": [
    "# 변환된 데이터셋에 있는 이미지를 학습에 맞게 정사각형으로 변환 및 416x416 사이즈로 변경한다.\n",
    "\n",
    "IMG_SIZE = 416\n",
    "\n",
    "def image_resize(savePath, source):\n",
    "\timg = cv2.imread(source)\n",
    "\th, w = img.shape[:2]\n",
    "\n",
    "\tcolor = 0\n",
    "\tif w > h:\n",
    "\t\tborderSize = int((w - h) / 2)\n",
    "\t\tborder = cv2.copyMakeBorder(\n",
    "\t\t\timg,\n",
    "\t\t\ttop=borderSize,\n",
    "\t\t\tbottom=borderSize,\n",
    "\t\t\tleft=0,\n",
    "\t\t\tright=0,\n",
    "\t\t\tborderType=cv2.BORDER_CONSTANT,\n",
    "\t\t\tvalue=[color, color, color]\n",
    "\t\t)\n",
    "\telse:\n",
    "\t\tborderSize = int((h - w) / 2)\n",
    "\t\tborder = cv2.copyMakeBorder(\n",
    "\t\t\timg,\n",
    "\t\t\ttop=0,\n",
    "\t\t\tbottom=0,\n",
    "\t\t\tleft=borderSize,\n",
    "\t\t\tright=borderSize,\n",
    "\t\t\tborderType=cv2.BORDER_CONSTANT,\n",
    "\t\t\tvalue=[color, color, color]\n",
    "\t\t)\n",
    "\n",
    "\tresize = cv2.resize(border, (IMG_SIZE, IMG_SIZE), interpolation = cv2.INTER_CUBIC)\n",
    "\tfilename = os.path.basename(source)\n",
    "\tfull_path = os.path.join(savePath, filename)\n",
    "\tcv2.imwrite(full_path, resize)\n",
    "\n",
    "\n",
    "def resizing_img(savePath, images_directory_list):\n",
    "\tcount = 0\n",
    "\tfor idx, sourcePath in enumerate(images_directory_list):\n",
    "\t\timgList = glob(sourcePath + '/*.jpg')\n",
    "\t\tprint(idx+1, \"/\", len(labels_directory_list), \" files : \", len(imgList), \" - \", sourcePath)\n",
    "\t\ttime.sleep(1)\n",
    "\t\t\n",
    "\t\tfor img in tqdm(imgList):\n",
    "\t\t\tcount+=1\n",
    "\t\t\t#print(count, \"image resizing :\", img)\n",
    "\t\t\timage_resize(savePath, img)\n",
    "\n",
    "resizing_img(\"./dataset/images\", images_directory_list)\n"
   ]
  },
  {
   "cell_type": "code",
   "execution_count": 13,
   "metadata": {},
   "outputs": [
    {
     "name": "stdout",
     "output_type": "stream",
     "text": [
      "label list count :  291401\n",
      "image list count :  291401\n"
     ]
    }
   ],
   "source": [
    "label_list = glob(\"./dataset/labels/*.txt\")\n",
    "label_list = sorted(label_list)\n",
    "print(\"label list count : \",len(label_list))\n",
    "\n",
    "image_list = glob(\"./dataset/images/*.jpg\")\n",
    "image_list = sorted(image_list)\n",
    "print(\"image list count : \", len(image_list))\n"
   ]
  },
  {
   "cell_type": "code",
   "execution_count": 38,
   "metadata": {},
   "outputs": [
    {
     "data": {
      "text/plain": [
       "['./dataset/labels/A01_F03_C074_C_200114_3001_20S_000001.061.txt',\n",
       " './dataset/labels/A01_F03_C074_C_200114_3001_20S_000001.941.txt',\n",
       " './dataset/labels/A01_F03_C074_C_200114_3001_20S_000002.139.txt',\n",
       " './dataset/labels/A01_F03_C074_C_200114_3001_20S_000002.204.txt',\n",
       " './dataset/labels/A01_F03_C074_C_200114_3001_20S_000005.145.txt',\n",
       " './dataset/labels/A01_F03_C074_C_200114_3001_20S_000006.538.txt',\n",
       " './dataset/labels/A01_F03_C074_C_200114_3001_20S_000009.141.txt',\n",
       " './dataset/labels/A01_F03_C074_C_200114_3001_20S_000014.639.txt',\n",
       " './dataset/labels/A01_F03_C074_C_200114_3002_20S_000013.639.txt',\n",
       " './dataset/labels/A01_F03_C074_C_200114_3002_20S_000018.642.txt']"
      ]
     },
     "execution_count": 38,
     "metadata": {},
     "output_type": "execute_result"
    }
   ],
   "source": [
    "label_list[0:10]"
   ]
  },
  {
   "cell_type": "code",
   "execution_count": 39,
   "metadata": {},
   "outputs": [
    {
     "data": {
      "text/plain": [
       "['./dataset/images/A01_F03_C074_C_200114_3001_20S_000001.061.jpg',\n",
       " './dataset/images/A01_F03_C074_C_200114_3001_20S_000001.941.jpg',\n",
       " './dataset/images/A01_F03_C074_C_200114_3001_20S_000002.139.jpg',\n",
       " './dataset/images/A01_F03_C074_C_200114_3001_20S_000002.204.jpg',\n",
       " './dataset/images/A01_F03_C074_C_200114_3001_20S_000005.145.jpg',\n",
       " './dataset/images/A01_F03_C074_C_200114_3001_20S_000006.538.jpg',\n",
       " './dataset/images/A01_F03_C074_C_200114_3001_20S_000009.141.jpg',\n",
       " './dataset/images/A01_F03_C074_C_200114_3001_20S_000014.639.jpg',\n",
       " './dataset/images/A01_F03_C074_C_200114_3002_20S_000013.639.jpg',\n",
       " './dataset/images/A01_F03_C074_C_200114_3002_20S_000018.642.jpg']"
      ]
     },
     "execution_count": 39,
     "metadata": {},
     "output_type": "execute_result"
    }
   ],
   "source": [
    "image_list[0:10]"
   ]
  },
  {
   "cell_type": "code",
   "execution_count": 14,
   "metadata": {},
   "outputs": [
    {
     "name": "stderr",
     "output_type": "stream",
     "text": [
      "291401it [00:00, 327025.04it/s]\n"
     ]
    }
   ],
   "source": [
    "# image 와 label 누락 파일 검사\n",
    "\n",
    "for idx, full_path in tqdm(enumerate(image_list)):\n",
    "    filename_with_extension = os.path.basename(full_path)  # 경로 제거\n",
    "    image_filename, file_extension = os.path.splitext(filename_with_extension)\n",
    "    filename_with_extension = os.path.basename(label_list[idx])  # 경로 제거\n",
    "    label_filename, file_extension = os.path.splitext(filename_with_extension)\n",
    "    \n",
    "    if image_filename != label_filename:\n",
    "        print(idx, full_path)\n",
    "        print(label_list[idx])\n",
    "        break;"
   ]
  },
  {
   "cell_type": "code",
   "execution_count": 15,
   "metadata": {},
   "outputs": [
    {
     "data": {
      "text/plain": [
       "['./origin_data/training/labels/TL_01.고라니',\n",
       " './origin_data/training/labels/TL_02.멧돼지',\n",
       " './origin_data/training/labels/TL_03.너구리',\n",
       " './origin_data/training/labels/TL_04.다람쥐',\n",
       " './origin_data/training/labels/TL_05.청설모',\n",
       " './origin_data/training/labels/TL_06.반달가슴곰',\n",
       " './origin_data/training/labels/TL_07.족제비',\n",
       " './origin_data/training/labels/TL_08.멧토끼',\n",
       " './origin_data/training/labels/TL_09.왜가리',\n",
       " './origin_data/training/labels/TL_10.중대백로',\n",
       " './origin_data/training/labels/TL_11.노루',\n",
       " './origin_data/validation/labels/VL_01.고라니',\n",
       " './origin_data/validation/labels/VL_02.멧돼지',\n",
       " './origin_data/validation/labels/VL_03.너구리',\n",
       " './origin_data/validation/labels/VL_04.다람쥐',\n",
       " './origin_data/validation/labels/VL_05.청설모',\n",
       " './origin_data/validation/labels/VL_06.반달가슴곰',\n",
       " './origin_data/validation/labels/VL_07.족제비',\n",
       " './origin_data/validation/labels/VL_08.멧토끼',\n",
       " './origin_data/validation/labels/VL_09.왜가리',\n",
       " './origin_data/validation/labels/VL_10.중대백로',\n",
       " './origin_data/validation/labels/VL_11.노루']"
      ]
     },
     "execution_count": 15,
     "metadata": {},
     "output_type": "execute_result"
    }
   ],
   "source": [
    "# Test 데이터셋 작성\n",
    "# original 데이터셋에서 Validation 데이터 셋으로 구성\n",
    "\n",
    "def get_directories_in_directory(directory):\n",
    "    directories = [os.path.join(directory, d) for d in os.listdir(directory) if os.path.isdir(os.path.join(directory, d))]\n",
    "    return directories\n",
    "\n",
    "TARGET_PATH = \"./origin_data/training/labels\"\n",
    "training_labels_directory_list = sorted(get_directories_in_directory(TARGET_PATH))\n",
    "\n",
    "TARGET_PATH = \"./origin_data/validation/labels\"\n",
    "validation_labels_directory_list = sorted(get_directories_in_directory(TARGET_PATH))\n",
    "\n",
    "total_labels_dir_list = training_labels_directory_list + validation_labels_directory_list\n",
    "total_labels_dir_list\n"
   ]
  },
  {
   "cell_type": "code",
   "execution_count": 51,
   "metadata": {},
   "outputs": [
    {
     "data": {
      "text/plain": [
       "['./origin_data/training/labels/TL_01.고라니',\n",
       " './origin_data/training/labels/TL_02.멧돼지',\n",
       " './origin_data/training/labels/TL_03.너구리',\n",
       " './origin_data/training/labels/TL_04.다람쥐',\n",
       " './origin_data/training/labels/TL_05.청설모',\n",
       " './origin_data/training/labels/TL_06.반달가슴곰',\n",
       " './origin_data/training/labels/TL_07.족제비',\n",
       " './origin_data/training/labels/TL_08.멧토끼',\n",
       " './origin_data/training/labels/TL_09.왜가리',\n",
       " './origin_data/training/labels/TL_10.중대백로',\n",
       " './origin_data/training/labels/TL_11.노루']"
      ]
     },
     "execution_count": 51,
     "metadata": {},
     "output_type": "execute_result"
    }
   ],
   "source": [
    "training_labels_directory_list"
   ]
  },
  {
   "cell_type": "code",
   "execution_count": 52,
   "metadata": {},
   "outputs": [
    {
     "data": {
      "text/plain": [
       "['./origin_data/validation/labels/VL_01.고라니',\n",
       " './origin_data/validation/labels/VL_02.멧돼지',\n",
       " './origin_data/validation/labels/VL_03.너구리',\n",
       " './origin_data/validation/labels/VL_04.다람쥐',\n",
       " './origin_data/validation/labels/VL_05.청설모',\n",
       " './origin_data/validation/labels/VL_06.반달가슴곰',\n",
       " './origin_data/validation/labels/VL_07.족제비',\n",
       " './origin_data/validation/labels/VL_08.멧토끼',\n",
       " './origin_data/validation/labels/VL_09.왜가리',\n",
       " './origin_data/validation/labels/VL_10.중대백로',\n",
       " './origin_data/validation/labels/VL_11.노루']"
      ]
     },
     "execution_count": 52,
     "metadata": {},
     "output_type": "execute_result"
    }
   ],
   "source": [
    "validation_labels_directory_list"
   ]
  },
  {
   "cell_type": "code",
   "execution_count": 17,
   "metadata": {},
   "outputs": [],
   "source": [
    "# 학습에 사용할 데이터셋을 Train:Valid:Test 로 구분하여 각 8:1:1 의 비율로 나눈다.\n",
    "# 나눠진 데이터셋의 상세 내용은 count.xlsx 엑셀파일에 저장\n",
    "# 에러가 있는 데이터는 err.txt 에 저장\n",
    "\n",
    "pr = [0]\n",
    "\n",
    "animal = [\"고라니\", \"멧돼지\", \"너구리 \", \"다람쥐\", \"청설모\", \"반달가슴곰\", \"족제비\", \"멧토끼\", \"왜가리\", \"중대백로\", \"노루\"]\n",
    "\n",
    "train_list = []\n",
    "valid_list = []\n",
    "test_list = []\n",
    "\n",
    "obj_count = []\n",
    "img_count = []\n",
    "err_count = []\n",
    "\n",
    "def get_json_data(fileName, trainList, validList, testList):\n",
    "\tglobal obj_count, img_count, err_count\n",
    "\n",
    "\twith open(fileName, encoding='utf-8-sig') as jsonFile:\n",
    "\t\tjsonData = json.load(jsonFile)\n",
    "\t#fName = ('.'.join(fileName.split('.')[0:-1]) + \".jpg\").replace(\"/json/\", \"/images/\")\n",
    "\tfName = (\"./images/\" + fileName.split('/')[-1]).replace(\".json\",\".jpg\")\n",
    "\tpr[0] += 1\n",
    "\t#print(pr, fName)\n",
    "\n",
    "\tday = str(jsonData['images'][0]['type'])\n",
    "\tif day != \"RGB\" and day != \"IR\":\n",
    "\t\terr_count.append(fName)\n",
    "\t\treturn\n",
    "\n",
    "\tobj_list = jsonData['annotations']\n",
    "\t\n",
    "\ttrainCount = 0\n",
    "\tvalidCount = 0\n",
    "\ttestCount = 0\n",
    "\tfor i in obj_count:\n",
    "\t\tif i[0] == (\"train\", obj_list[0]['species'], day):\ttrainCount += i[1]\n",
    "\t\telif i[0] == (\"valid\", obj_list[0]['species'], day):\tvalidCount += i[1]\n",
    "\t\telif i[0] == (\"test\", obj_list[0]['species'], day):\ttestCount += i[1]\n",
    "\n",
    "\tif int(trainCount / 8) < validCount:\n",
    "\t\tdata_type = \"train\"\n",
    "\t\ttrainList.append(fName)\n",
    "\telif validCount <= testCount:\n",
    "\t\tdata_type = \"valid\"\n",
    "\t\tvalidList.append(fName)\n",
    "\telse:\n",
    "\t\tdata_type = \"test\"\n",
    "\t\ttestList.append(fName)\n",
    "\n",
    "\tfor obj in obj_list:\n",
    "\t\tcheck = 0\n",
    "\t\tfor i in obj_count:\n",
    "\t\t\tif i[0] == (data_type, obj['species'], day):\n",
    "\t\t\t\ti[1] += 1\n",
    "\t\t\t\tcheck = 1\n",
    "\t\t\t\tbreak\n",
    "\t\tif not check:\n",
    "\t\t\tobj_count.append([(data_type, obj['species'], day), 1])\n",
    "\n",
    "\tspec = animal[int(os.path.basename(fileName).split('_')[0][1:]) - 1]\n",
    "\tcheck = 0\n",
    "\tfor j in img_count:\n",
    "\t\tif j[0] == (data_type, spec, day):\n",
    "\t\t\tj[1] += 1\n",
    "\t\t\tcheck = 1\n",
    "\t\t\tbreak\n",
    "\tif not check:\n",
    "\t\timg_count.append([(data_type, spec, day), 1])\n",
    "\n",
    "def parse_data(targetPathList, trainList, validList, testList):\n",
    "\tfor dir in tqdm(targetPathList):\n",
    "\t\tdata_list = sorted(os.listdir(dir))\n",
    "\t\tfor line in data_list:\n",
    "\t\t\tif '.json' in line:\n",
    "\t\t\t\tget_json_data(dir + \"/\" + line, trainList, validList, testList)\n",
    "\t\t\t\t#print(line)\n",
    "\t\t\telse:\n",
    "\t\t\t\tpass\n",
    "\n",
    "def print_data(writePath):\n",
    "\tobj_count.sort()\n",
    "\timg_count.sort()\n",
    "\n",
    "\tcount = 0\n",
    "\tprint(\"==========object count==========\")\n",
    "\tfor i in obj_count:\n",
    "\t\tprint(f\"{i[0][0]}: {i[0][1]}: {i[0][2]}: {i[1]} counted\")\n",
    "\t\tcount += i[1]\n",
    "\tprint(\"count:\",count)\n",
    "\n",
    "\tcount = 0\n",
    "\tprint(\"==========image count==========\")\n",
    "\tfor i in img_count:\n",
    "\t\tprint(f\"{i[0][0]}: {i[0][1]}: {i[0][2]}: {i[1]} counted\")\n",
    "\t\tcount += i[1]\n",
    "\tprint(\"count:\",count)\n",
    "\n",
    "\tprint(\"==========err count==========\")\n",
    "\twith open(writePath + \"/err.txt\", \"w\", encoding='utf-8-sig') as f:\n",
    "\t\tf.write(\"\\n\".join(err_count) + \"\\n\")\n",
    "\tprint(\"count:\",len(err_count))\n",
    "\n",
    "def print_excel(writePath):\n",
    "\twb = Workbook()\n",
    "\tws = wb.active\n",
    "\tws.title = \"count\"\n",
    "\tws.append([\"Object\"])\n",
    "\tws.append([\"data_type\", \"object_type\", \"day\", \"count\"])\n",
    "\tfor i in obj_count:\n",
    "\t\tws.append(i[0] + (i[1],))\n",
    "\n",
    "\tws.append([\"Image\"])\n",
    "\tws.append([\"data_type\", \"object_type\", \"day\", \"count\"])\n",
    "\tfor i in img_count:\n",
    "\t\tws.append(i[0] + (i[1],))\n",
    "\twb.save(writePath + \"/count.xlsx\")\n",
    "\n",
    "def split_dataset(targetPathList, writePath):\n",
    "\tglobal train_list, valid_list, test_list\n",
    " \n",
    "\tparse_data(targetPathList, train_list, valid_list, test_list)\n",
    "    \n",
    "\twith open(writePath + \"/train.txt\", \"w\", encoding='utf-8-sig') as f:\n",
    "\t\tf.write(\"\\n\".join(train_list) + \"\\n\")\n",
    "\twith open(writePath + \"/valid.txt\", \"w\", encoding='utf-8-sig') as f:\n",
    "\t\tf.write(\"\\n\".join(valid_list) + \"\\n\")\n",
    "\twith open(writePath + \"/test.txt\", \"w\", encoding='utf-8-sig') as f:\n",
    "\t\tf.write(\"\\n\".join(test_list) + \"\\n\")\n",
    "\n",
    "\tprint(\"train data: \", len(train_list))\n",
    "\tprint(\"valid data: \", len(valid_list))\n",
    "\tprint(\"test data: \", len(test_list))\n",
    "\tprint_data(writePath)\n",
    "\tprint_excel(writePath)\n",
    "\n",
    "\treturn \n",
    "\n"
   ]
  },
  {
   "cell_type": "code",
   "execution_count": 18,
   "metadata": {},
   "outputs": [
    {
     "name": "stderr",
     "output_type": "stream",
     "text": [
      "  0%|          | 0/22 [00:00<?, ?it/s]"
     ]
    },
    {
     "name": "stderr",
     "output_type": "stream",
     "text": [
      "100%|██████████| 22/22 [00:56<00:00,  2.59s/it]"
     ]
    },
    {
     "name": "stdout",
     "output_type": "stream",
     "text": [
      "train data:  233388\n",
      "valid data:  28952\n",
      "test data:  29020\n",
      "==========object count==========\n",
      "test: 고라니: IR: 1608 counted\n",
      "test: 고라니: RGB: 2020 counted\n",
      "test: 너구리: IR: 750 counted\n",
      "test: 너구리: RGB: 810 counted\n",
      "test: 노루: IR: 1405 counted\n",
      "test: 노루: RGB: 1941 counted\n",
      "test: 다람쥐: IR: 16 counted\n",
      "test: 다람쥐: RGB: 3899 counted\n",
      "test: 멧돼지: IR: 2005 counted\n",
      "test: 멧돼지: RGB: 1874 counted\n",
      "test: 멧토끼: IR: 1412 counted\n",
      "test: 멧토끼: RGB: 2266 counted\n",
      "test: 반달가슴곰: IR: 843 counted\n",
      "test: 반달가슴곰: RGB: 1833 counted\n",
      "test: 왜가리: RGB: 3117 counted\n",
      "test: 족제비: IR: 747 counted\n",
      "test: 족제비: RGB: 924 counted\n",
      "test: 중대백로: RGB: 2796 counted\n",
      "test: 청설모: IR: 6 counted\n",
      "test: 청설모: RGB: 2604 counted\n",
      "train: 고라니: IR: 12865 counted\n",
      "train: 고라니: RGB: 16168 counted\n",
      "train: 너구리: IR: 6000 counted\n",
      "train: 너구리: RGB: 6481 counted\n",
      "train: 노루: IR: 11233 counted\n",
      "train: 노루: RGB: 15531 counted\n",
      "train: 다람쥐: IR: 132 counted\n",
      "train: 다람쥐: RGB: 31198 counted\n",
      "train: 멧돼지: IR: 16028 counted\n",
      "train: 멧돼지: RGB: 14992 counted\n",
      "train: 멧토끼: IR: 11301 counted\n",
      "train: 멧토끼: RGB: 18131 counted\n",
      "train: 반달가슴곰: IR: 6750 counted\n",
      "train: 반달가슴곰: RGB: 14672 counted\n",
      "train: 왜가리: IR: 3 counted\n",
      "train: 왜가리: RGB: 24937 counted\n",
      "train: 족제비: IR: 5976 counted\n",
      "train: 족제비: RGB: 7400 counted\n",
      "train: 중대백로: RGB: 22371 counted\n",
      "train: 청설모: IR: 48 counted\n",
      "train: 청설모: RGB: 20834 counted\n",
      "valid: 고라니: IR: 1609 counted\n",
      "valid: 고라니: RGB: 2021 counted\n",
      "valid: 너구리: IR: 751 counted\n",
      "valid: 너구리: RGB: 811 counted\n",
      "valid: 노루: IR: 1405 counted\n",
      "valid: 노루: RGB: 1942 counted\n",
      "valid: 다람쥐: IR: 17 counted\n",
      "valid: 다람쥐: RGB: 3900 counted\n",
      "valid: 멧돼지: IR: 2005 counted\n",
      "valid: 멧돼지: RGB: 1874 counted\n",
      "valid: 멧토끼: IR: 1413 counted\n",
      "valid: 멧토끼: RGB: 2267 counted\n",
      "valid: 반달가슴곰: IR: 844 counted\n",
      "valid: 반달가슴곰: RGB: 1834 counted\n",
      "valid: 왜가리: IR: 1 counted\n",
      "valid: 왜가리: RGB: 3118 counted\n",
      "valid: 족제비: IR: 747 counted\n",
      "valid: 족제비: RGB: 925 counted\n",
      "valid: 중대백로: RGB: 2797 counted\n",
      "valid: 청설모: IR: 7 counted\n",
      "valid: 청설모: RGB: 2605 counted\n",
      "count: 328820\n",
      "==========image count==========\n",
      "test: 고라니: IR: 1600 counted\n",
      "test: 고라니: RGB: 1874 counted\n",
      "test: 너구리 : IR: 735 counted\n",
      "test: 너구리 : RGB: 810 counted\n",
      "test: 노루: IR: 1087 counted\n",
      "test: 노루: RGB: 1746 counted\n",
      "test: 다람쥐: IR: 16 counted\n",
      "test: 다람쥐: RGB: 3819 counted\n",
      "test: 멧돼지: IR: 1924 counted\n",
      "test: 멧돼지: RGB: 1506 counted\n",
      "test: 멧토끼: IR: 1351 counted\n",
      "test: 멧토끼: RGB: 1393 counted\n",
      "test: 반달가슴곰: IR: 733 counted\n",
      "test: 반달가슴곰: RGB: 929 counted\n",
      "test: 왜가리: RGB: 2913 counted\n",
      "test: 족제비: IR: 747 counted\n",
      "test: 족제비: RGB: 924 counted\n",
      "test: 중대백로: RGB: 2413 counted\n",
      "test: 청설모: IR: 6 counted\n",
      "test: 청설모: RGB: 2494 counted\n",
      "train: 고라니: IR: 12879 counted\n",
      "train: 고라니: RGB: 15137 counted\n",
      "train: 너구리 : IR: 5887 counted\n",
      "train: 너구리 : RGB: 6481 counted\n",
      "train: 노루: IR: 8721 counted\n",
      "train: 노루: RGB: 14011 counted\n",
      "train: 다람쥐: IR: 130 counted\n",
      "train: 다람쥐: RGB: 30627 counted\n",
      "train: 멧돼지: IR: 15431 counted\n",
      "train: 멧돼지: RGB: 12201 counted\n",
      "train: 멧토끼: IR: 10818 counted\n",
      "train: 멧토끼: RGB: 11273 counted\n",
      "train: 반달가슴곰: IR: 5879 counted\n",
      "train: 반달가슴곰: RGB: 7637 counted\n",
      "train: 왜가리: IR: 3 counted\n",
      "train: 왜가리: RGB: 23394 counted\n",
      "train: 족제비: IR: 5974 counted\n",
      "train: 족제비: RGB: 7398 counted\n",
      "train: 중대백로: RGB: 19452 counted\n",
      "train: 청설모: IR: 48 counted\n",
      "train: 청설모: RGB: 20007 counted\n",
      "valid: 고라니: IR: 1606 counted\n",
      "valid: 고라니: RGB: 1876 counted\n",
      "valid: 너구리 : IR: 737 counted\n",
      "valid: 너구리 : RGB: 811 counted\n",
      "valid: 노루: IR: 1086 counted\n",
      "valid: 노루: RGB: 1741 counted\n",
      "valid: 다람쥐: IR: 16 counted\n",
      "valid: 다람쥐: RGB: 3819 counted\n",
      "valid: 멧돼지: IR: 1923 counted\n",
      "valid: 멧돼지: RGB: 1503 counted\n",
      "valid: 멧토끼: IR: 1341 counted\n",
      "valid: 멧토끼: RGB: 1355 counted\n",
      "valid: 반달가슴곰: IR: 732 counted\n",
      "valid: 반달가슴곰: RGB: 916 counted\n",
      "valid: 왜가리: IR: 1 counted\n",
      "valid: 왜가리: RGB: 2917 counted\n",
      "valid: 족제비: IR: 747 counted\n",
      "valid: 족제비: RGB: 925 counted\n",
      "valid: 중대백로: RGB: 2401 counted\n",
      "valid: 청설모: IR: 7 counted\n",
      "valid: 청설모: RGB: 2492 counted\n",
      "count: 291360\n",
      "==========err count==========\n",
      "count: 41\n"
     ]
    },
    {
     "name": "stderr",
     "output_type": "stream",
     "text": [
      "\n"
     ]
    }
   ],
   "source": [
    "# 데이터셋 추가\n",
    "split_dataset(total_labels_dir_list, \"./dataset\")\n"
   ]
  },
  {
   "cell_type": "code",
   "execution_count": null,
   "metadata": {},
   "outputs": [],
   "source": []
  },
  {
   "cell_type": "code",
   "execution_count": null,
   "id": "4acdcaad",
   "metadata": {},
   "outputs": [],
   "source": [
    "# yolo 및 yolo 실행에 필요한 모듈 설치\n",
    "!git clone https://github.com/ultralytics/yolov5.git\n",
    "\n",
    "%cd yolov5\n",
    "!pip3 install -r requirements.txt"
   ]
  },
  {
   "cell_type": "code",
   "execution_count": 43,
   "metadata": {},
   "outputs": [
    {
     "name": "stdout",
     "output_type": "stream",
     "text": [
      "/home/mb/wildlife_model/yolov5\n"
     ]
    }
   ],
   "source": [
    "!cd yolov5; pwd"
   ]
  },
  {
   "cell_type": "code",
   "execution_count": 19,
   "metadata": {},
   "outputs": [
    {
     "name": "stdout",
     "output_type": "stream",
     "text": [
      "\u001b[34m\u001b[1mtrain: \u001b[0mweights=yolov5s.pt, cfg=./models/yolov5s.yaml, data=../dataset/data.yaml, hyp=data/hyps/hyp.scratch-low.yaml, epochs=1, batch_size=32, imgsz=416, rect=False, resume=False, nosave=False, noval=False, noautoanchor=False, noplots=False, evolve=None, bucket=, cache=None, image_weights=False, device=, multi_scale=False, single_cls=False, optimizer=SGD, sync_bn=False, workers=8, project=runs/train, name=exp, exist_ok=False, quad=False, cos_lr=False, label_smoothing=0.0, patience=100, freeze=[0], save_period=-1, seed=0, local_rank=-1, entity=None, upload_dataset=False, bbox_interval=-1, artifact_alias=latest\n",
      "\u001b[34m\u001b[1mgithub: \u001b[0mup to date with https://github.com/ultralytics/yolov5 ✅\n",
      "YOLOv5 🚀 v7.0-247-g3f02fde Python-3.10.12 torch-2.1.1+cu121 CUDA:0 (NVIDIA GeForce RTX 3060 Laptop GPU, 5938MiB)\n",
      "\n",
      "\u001b[34m\u001b[1mhyperparameters: \u001b[0mlr0=0.01, lrf=0.01, momentum=0.937, weight_decay=0.0005, warmup_epochs=3.0, warmup_momentum=0.8, warmup_bias_lr=0.1, box=0.05, cls=0.5, cls_pw=1.0, obj=1.0, obj_pw=1.0, iou_t=0.2, anchor_t=4.0, fl_gamma=0.0, hsv_h=0.015, hsv_s=0.7, hsv_v=0.4, degrees=0.0, translate=0.1, scale=0.5, shear=0.0, perspective=0.0, flipud=0.0, fliplr=0.5, mosaic=1.0, mixup=0.0, copy_paste=0.0\n",
      "\u001b[34m\u001b[1mComet: \u001b[0mrun 'pip install comet_ml' to automatically track and visualize YOLOv5 🚀 runs in Comet\n",
      "\u001b[34m\u001b[1mTensorBoard: \u001b[0mStart with 'tensorboard --logdir runs/train', view at http://localhost:6006/\n",
      "Overriding model.yaml nc=80 with nc=11\n",
      "\n",
      "                 from  n    params  module                                  arguments                     \n",
      "  0                -1  1      3520  models.common.Conv                      [3, 32, 6, 2, 2]              \n",
      "  1                -1  1     18560  models.common.Conv                      [32, 64, 3, 2]                \n",
      "  2                -1  1     18816  models.common.C3                        [64, 64, 1]                   \n",
      "  3                -1  1     73984  models.common.Conv                      [64, 128, 3, 2]               \n",
      "  4                -1  2    115712  models.common.C3                        [128, 128, 2]                 \n",
      "  5                -1  1    295424  models.common.Conv                      [128, 256, 3, 2]              \n",
      "  6                -1  3    625152  models.common.C3                        [256, 256, 3]                 \n",
      "  7                -1  1   1180672  models.common.Conv                      [256, 512, 3, 2]              \n",
      "  8                -1  1   1182720  models.common.C3                        [512, 512, 1]                 \n",
      "  9                -1  1    656896  models.common.SPPF                      [512, 512, 5]                 \n",
      " 10                -1  1    131584  models.common.Conv                      [512, 256, 1, 1]              \n",
      " 11                -1  1         0  torch.nn.modules.upsampling.Upsample    [None, 2, 'nearest']          \n",
      " 12           [-1, 6]  1         0  models.common.Concat                    [1]                           \n",
      " 13                -1  1    361984  models.common.C3                        [512, 256, 1, False]          \n",
      " 14                -1  1     33024  models.common.Conv                      [256, 128, 1, 1]              \n",
      " 15                -1  1         0  torch.nn.modules.upsampling.Upsample    [None, 2, 'nearest']          \n",
      " 16           [-1, 4]  1         0  models.common.Concat                    [1]                           \n",
      " 17                -1  1     90880  models.common.C3                        [256, 128, 1, False]          \n",
      " 18                -1  1    147712  models.common.Conv                      [128, 128, 3, 2]              \n",
      " 19          [-1, 14]  1         0  models.common.Concat                    [1]                           \n",
      " 20                -1  1    296448  models.common.C3                        [256, 256, 1, False]          \n",
      " 21                -1  1    590336  models.common.Conv                      [256, 256, 3, 2]              \n",
      " 22          [-1, 10]  1         0  models.common.Concat                    [1]                           \n",
      " 23                -1  1   1182720  models.common.C3                        [512, 512, 1, False]          \n",
      " 24      [17, 20, 23]  1     43152  models.yolo.Detect                      [11, [[10, 13, 16, 30, 33, 23], [30, 61, 62, 45, 59, 119], [116, 90, 156, 198, 373, 326]], [128, 256, 512]]\n",
      "YOLOv5s summary: 214 layers, 7049296 parameters, 7049296 gradients, 16.0 GFLOPs\n",
      "\n",
      "Transferred 342/349 items from yolov5s.pt\n",
      "\u001b[34m\u001b[1mAMP: \u001b[0mchecks passed ✅\n",
      "\u001b[34m\u001b[1moptimizer:\u001b[0m SGD(lr=0.01) with parameter groups 57 weight(decay=0.0), 60 weight(decay=0.0005), 60 bias\n",
      "\u001b[34m\u001b[1mtrain: \u001b[0mScanning /home/mb/wildlife_model/dataset/train... 233387 images, 0 backgr\u001b[0m\n",
      "\u001b[34m\u001b[1mtrain: \u001b[0mWARNING ⚠️ /home/mb/wildlife_model/dataset/images/A07_H20_C070_C_211203_6095_29S_000008.029.jpg: ignoring corrupt image/label: non-normalized or out of bounds coordinates [     1.0103]\n",
      "\u001b[34m\u001b[1mtrain: \u001b[0mWARNING ⚠️ ﻿./images/A01_F03_C074_C_200114_3001_20S_000001.941.jpg: ignoring corrupt image/label: [Errno 2] No such file or directory: '\\ufeff./images/A01_F03_C074_C_200114_3001_20S_000001.941.jpg'\n",
      "\u001b[34m\u001b[1mtrain: \u001b[0mNew cache created: /home/mb/wildlife_model/dataset/train.cache\n",
      "\u001b[34m\u001b[1mval: \u001b[0mScanning /home/mb/wildlife_model/dataset/valid... 28951 images, 0 backgroun\u001b[0m\n",
      "\u001b[34m\u001b[1mval: \u001b[0mWARNING ⚠️ ﻿./images/A01_F03_C074_C_200114_3001_20S_000001.061.jpg: ignoring corrupt image/label: [Errno 2] No such file or directory: '\\ufeff./images/A01_F03_C074_C_200114_3001_20S_000001.061.jpg'\n",
      "\u001b[34m\u001b[1mval: \u001b[0mNew cache created: /home/mb/wildlife_model/dataset/valid.cache\n",
      "\n",
      "\u001b[34m\u001b[1mAutoAnchor: \u001b[0m5.69 anchors/target, 1.000 Best Possible Recall (BPR). Current anchors are a good fit to dataset ✅\n",
      "Plotting labels to runs/train/exp9/labels.jpg... \n",
      "Image sizes 416 train, 416 val\n",
      "Using 8 dataloader workers\n",
      "Logging results to \u001b[1mruns/train/exp9\u001b[0m\n",
      "Starting training for 1 epochs...\n",
      "\n",
      "      Epoch    GPU_mem   box_loss   obj_loss   cls_loss  Instances       Size\n",
      "        0/0      2.86G    0.04038     0.0112    0.02769         29        416: 1\n",
      "                 Class     Images  Instances          P          R      mAP50   \n",
      "                   all      28951      32892      0.944      0.936       0.97      0.738\n",
      "\n",
      "1 epochs completed in 0.403 hours.\n",
      "Optimizer stripped from runs/train/exp9/weights/last.pt, 14.4MB\n",
      "Optimizer stripped from runs/train/exp9/weights/best.pt, 14.4MB\n",
      "\n",
      "Validating runs/train/exp9/weights/best.pt...\n",
      "Fusing layers... \n",
      "YOLOv5s summary: 157 layers, 7039792 parameters, 0 gradients, 15.8 GFLOPs\n",
      "                 Class     Images  Instances          P          R      mAP50   "
     ]
    }
   ],
   "source": [
    "# test 학습\n",
    "!cd yolov5; python3 train.py --img 416 --batch 32 --epochs 1 --data ../dataset/data.yaml --cfg ./models/yolov5s.yaml --weights yolov5s.pt"
   ]
  },
  {
   "cell_type": "code",
   "execution_count": 20,
   "metadata": {},
   "outputs": [
    {
     "name": "stdout",
     "output_type": "stream",
     "text": [
      "\u001b[34m\u001b[1mval: \u001b[0mdata=../dataset/data.yaml, weights=['./runs/train/exp9/weights/best.pt'], batch_size=64, imgsz=416, conf_thres=0.001, iou_thres=0.6, max_det=300, task=test, device=, workers=8, single_cls=False, augment=False, verbose=False, save_txt=True, save_hybrid=False, save_conf=True, save_json=False, project=runs/val, name=exp, exist_ok=False, half=False, dnn=False\n",
      "YOLOv5 🚀 v7.0-247-g3f02fde Python-3.10.12 torch-2.1.1+cu121 CUDA:0 (NVIDIA GeForce RTX 3060 Laptop GPU, 5938MiB)\n",
      "\n",
      "Fusing layers... \n",
      "YOLOv5s summary: 157 layers, 7039792 parameters, 0 gradients, 15.8 GFLOPs\n",
      "\u001b[34m\u001b[1mtest: \u001b[0mScanning /home/mb/wildlife_model/dataset/test... 29019 images, 0 backgroun\u001b[0m\n",
      "\u001b[34m\u001b[1mtest: \u001b[0mWARNING ⚠️ /home/mb/wildlife_model/dataset/images/A02_H20_C012_C_211113_5061_20S_000019.045.jpg: 2 duplicate labels removed\n",
      "\u001b[34m\u001b[1mtest: \u001b[0mWARNING ⚠️ /home/mb/wildlife_model/dataset/images/A11_H74_C090_C_190211_6121_10S_000003.703.jpg: 1 duplicate labels removed\n",
      "\u001b[34m\u001b[1mtest: \u001b[0mWARNING ⚠️ ﻿./images/A01_F03_C074_C_200114_3002_20S_000019.181.jpg: ignoring corrupt image/label: [Errno 2] No such file or directory: '\\ufeff./images/A01_F03_C074_C_200114_3002_20S_000019.181.jpg'\n",
      "\u001b[34m\u001b[1mtest: \u001b[0mNew cache created: /home/mb/wildlife_model/dataset/test.cache\n",
      "                 Class     Images  Instances          P          R      mAP50   \n",
      "                   all      29019      32872      0.943      0.935       0.97      0.738\n",
      "                   고라니      29019       3627      0.956      0.938      0.978      0.792\n",
      "                    노루      29019       3345      0.959      0.964      0.984      0.778\n",
      "                   너구리      29019       1560      0.994      0.896      0.981       0.82\n",
      "                   멧돼지      29019       3877      0.906      0.973      0.973      0.803\n",
      "                 반달가슴곰      29019       2676      0.891      0.927      0.961      0.794\n",
      "                   멧토끼      29019       3678       0.88      0.912      0.947      0.712\n",
      "                   다람쥐      29019       3915      0.933      0.827      0.909       0.47\n",
      "                   청설모      29019       2610      0.975      0.957      0.984      0.762\n",
      "                  중대백로      29019       2796      0.936      0.949      0.977      0.735\n",
      "                   족제비      29019       1671       0.98      0.971      0.991      0.748\n",
      "                   왜가리      29019       3117      0.962      0.974       0.99      0.702\n",
      "Speed: 0.1ms pre-process, 2.1ms inference, 0.7ms NMS per image at shape (64, 3, 416, 416)\n",
      "Results saved to \u001b[1mruns/val/exp\u001b[0m\n",
      "29019 labels saved to runs/val/exp/labels\n"
     ]
    }
   ],
   "source": [
    "# yolo 테스트 코드\n",
    "\n",
    "!cd yolov5; python3 val.py --data ../dataset/data.yaml --batch 64 --weights ./runs/train/exp9/weights/best.pt --task test --img 416 --save-txt --save-conf"
   ]
  },
  {
   "cell_type": "code",
   "execution_count": null,
   "id": "f2019265",
   "metadata": {},
   "outputs": [],
   "source": [
    "# yolo 학습 코드 (약 120시간 실행) \n",
    "\n",
    "!sudo python3 train.py --img 416 --batch 64 --epochs 100 --data ../dataset/data.yaml --cfg ./models/yolov5s.yaml --weights yolov5s.pt"
   ]
  },
  {
   "cell_type": "code",
   "execution_count": null,
   "id": "9672f4f8",
   "metadata": {},
   "outputs": [],
   "source": [
    "# yolo 테스트 코드\n",
    "\n",
    "!sudo python3 val.py --data ../dataset/wildlife/data.yaml --batch 128 --weights ./runs/train/exp/weights/best.pt --task test --img 416 --save-txt --save-conf"
   ]
  }
 ],
 "metadata": {
  "kernelspec": {
   "display_name": "Python 3",
   "language": "python",
   "name": "python3"
  },
  "language_info": {
   "codemirror_mode": {
    "name": "ipython",
    "version": 3
   },
   "file_extension": ".py",
   "mimetype": "text/x-python",
   "name": "python",
   "nbconvert_exporter": "python",
   "pygments_lexer": "ipython3",
   "version": "3.10.12"
  }
 },
 "nbformat": 4,
 "nbformat_minor": 5
}
