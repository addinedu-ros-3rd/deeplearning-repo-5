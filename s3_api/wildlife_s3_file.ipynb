{
 "cells": [
  {
   "cell_type": "code",
   "execution_count": 2,
   "metadata": {},
   "outputs": [],
   "source": [
    "# 필요 라이브러리\n",
    "# !pip install boto3\n",
    "\n",
    "# 필요 인증파일\n",
    "# ~/.aws/credentials"
   ]
  },
  {
   "cell_type": "code",
   "execution_count": 3,
   "metadata": {},
   "outputs": [],
   "source": [
    "import boto3\n",
    "from botocore.exceptions import NoCredentialsError\n",
    "\n",
    "# S3 클라이언트 초기화\n",
    "def initialize_s3_client():\n",
    "    try:\n",
    "        s3_client = boto3.client('s3')\n",
    "        return s3_client\n",
    "    except NoCredentialsError:\n",
    "        print(\"Credentials not available\")\n",
    "        return None\n",
    "\n",
    "# S3 버킷에 파일 업로드\n",
    "def upload_file_to_s3(file_name, bucket, object_name=None):\n",
    "    s3_client = initialize_s3_client()\n",
    "    if s3_client is None:\n",
    "        return False\n",
    "\n",
    "    if object_name is None:\n",
    "        object_name = file_name\n",
    "\n",
    "    try:\n",
    "        s3_client.upload_file(file_name, bucket, object_name)\n",
    "        print(f\"File {file_name} uploaded to {bucket}/{object_name}\")\n",
    "        return True\n",
    "    except NoCredentialsError:\n",
    "        print(\"Error in uploading file\")\n",
    "        return False\n",
    "\n",
    "# S3 버킷에서 파일 다운로드\n",
    "def download_file_from_s3(bucket, object_name, file_name):\n",
    "    s3_client = initialize_s3_client()\n",
    "    if s3_client is None:\n",
    "        return False\n",
    "\n",
    "    try:\n",
    "        s3_client.download_file(bucket, object_name, file_name)\n",
    "        print(f\"File {file_name} downloaded from {bucket}/{object_name}\")\n",
    "        return True\n",
    "    except NoCredentialsError:\n",
    "        print(\"Error in downloading file\")\n",
    "        return False\n"
   ]
  },
  {
   "cell_type": "code",
   "execution_count": 3,
   "metadata": {},
   "outputs": [
    {
     "name": "stdout",
     "output_type": "stream",
     "text": [
      "File train_batch0.jpg uploaded to prj-wildlife/image/20231214/image_20231214205800.jpg\n"
     ]
    },
    {
     "data": {
      "text/plain": [
       "True"
      ]
     },
     "execution_count": 3,
     "metadata": {},
     "output_type": "execute_result"
    }
   ],
   "source": [
    "# s3://prj-wildlife/image/\n",
    "upload_file_to_s3('train_batch0.jpg', 'prj-wildlife', 'image/20231214/image_20231214205800.jpg')"
   ]
  },
  {
   "cell_type": "code",
   "execution_count": 4,
   "metadata": {},
   "outputs": [
    {
     "name": "stdout",
     "output_type": "stream",
     "text": [
      "File download.jpg downloaded from prj-wildlife/image/20231214/image_20231214205800.jpg\n"
     ]
    },
    {
     "data": {
      "text/plain": [
       "True"
      ]
     },
     "execution_count": 4,
     "metadata": {},
     "output_type": "execute_result"
    }
   ],
   "source": [
    "download_file_from_s3('prj-wildlife', 'image/20231214/image_20231214205800.jpg', 'download.jpg')"
   ]
  },
  {
   "cell_type": "code",
   "execution_count": 4,
   "metadata": {},
   "outputs": [
    {
     "name": "stdout",
     "output_type": "stream",
     "text": [
      "File 03_pig_and_brevno_morning_079_two_kaban_FPpreview.mp4 uploaded to prj-wildlife/video/20231214/video_20231214205800.mp4\n"
     ]
    },
    {
     "data": {
      "text/plain": [
       "True"
      ]
     },
     "execution_count": 4,
     "metadata": {},
     "output_type": "execute_result"
    }
   ],
   "source": [
    "# 03_pig_and_brevno_morning_079_two_kaban_FPpreview.mp4\n",
    "# s3://prj-wildlife/video/\n",
    "upload_file_to_s3('03_pig_and_brevno_morning_079_two_kaban_FPpreview.mp4', 'prj-wildlife', 'video/20231214/video_20231214205800.mp4')\n"
   ]
  },
  {
   "cell_type": "code",
   "execution_count": null,
   "metadata": {},
   "outputs": [],
   "source": []
  }
 ],
 "metadata": {
  "kernelspec": {
   "display_name": "qt",
   "language": "python",
   "name": "python3"
  },
  "language_info": {
   "codemirror_mode": {
    "name": "ipython",
    "version": 3
   },
   "file_extension": ".py",
   "mimetype": "text/x-python",
   "name": "python",
   "nbconvert_exporter": "python",
   "pygments_lexer": "ipython3",
   "version": "3.11.4"
  }
 },
 "nbformat": 4,
 "nbformat_minor": 2
}
